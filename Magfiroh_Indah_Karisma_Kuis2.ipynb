{
  "nbformat": 4,
  "nbformat_minor": 0,
  "metadata": {
    "colab": {
      "provenance": [],
      "gpuType": "T4"
    },
    "kernelspec": {
      "name": "python3",
      "display_name": "Python 3"
    },
    "language_info": {
      "name": "python"
    },
    "accelerator": "GPU"
  },
  "cells": [
    {
      "cell_type": "markdown",
      "source": [
        "# KUIS 2 MACHINE LEARNING\n",
        "\n",
        "### Nama: Magfiroh Indah Karisma\n",
        "### NIM: 2141720180\n",
        "### TI - 3F | 17\n",
        "\n",
        "## Import Library"
      ],
      "metadata": {
        "id": "h3cUtvo10Q_I"
      }
    },
    {
      "cell_type": "code",
      "execution_count": 13,
      "metadata": {
        "id": "hHyeMSE_y9kU"
      },
      "outputs": [],
      "source": [
        "import tensorflow as tf\n",
        "import numpy as np\n",
        "import pandas as pd\n",
        "import matplotlib.pyplot as plt\n",
        "import seaborn as sns\n",
        "from sklearn.preprocessing import LabelBinarizer\n",
        "from sklearn.model_selection import train_test_split\n",
        "from sklearn.metrics import classification_report\n",
        "import zipfile"
      ]
    },
    {
      "cell_type": "markdown",
      "source": [
        "#### PENJELASAN\n",
        "\n",
        "- `import tensorflow as tf`: Mengimpor TensorFlow, sebuah framework yang digunakan untuk pembelajaran mesin dan pembuatan model neural network.\n",
        "- `import numpy as np`: Mengimpor NumPy, pustaka yang digunakan untuk komputasi numerik di Python, terutama untuk array multidimensi.\n",
        "- `import pandas as pd`: Mengimpor Pandas, pustaka yang menyediakan struktur data dan alat analisis data yang mudah digunakan.\n",
        "- `import matplotlib.pyplot as plt`: Mengimpor Matplotlib, pustaka untuk visualisasi data, sering digunakan untuk membuat grafik dan plot.\n",
        "- `import seaborn as sns`: Mengimpor Seaborn, pustaka lain untuk visualisasi data yang dibangun di atas Matplotlib, dengan fokus pada grafik statistik yang menarik.\n",
        "- `from sklearn.preprocessing import LabelBinarizer`: Mengimpor LabelBinarizer dari pustaka scikit-learn (sklearn), digunakan untuk mengubah fitur kategorikal menjadi bentuk yang dapat diproses oleh algoritma machine learning.\n",
        "- `from sklearn.model_selection import train_test_split`: Mengimpor train_test_split dari sklearn, yang berguna untuk membagi data menjadi set pelatihan dan pengujian.\n",
        "- `from sklearn.metrics import classification_report`: Mengimpor classification_report dari sklearn, yang memberikan ringkasan performa model klasifikasi.\n",
        "- `import zipfile`: Mengimpor modul zipfile untuk menangani file arsip ZIP di Python."
      ],
      "metadata": {
        "id": "zoB5QE_l1okf"
      }
    },
    {
      "cell_type": "markdown",
      "source": [
        "## Load Dataset\n",
        "### Load MNIST"
      ],
      "metadata": {
        "id": "98368czO1YkJ"
      }
    },
    {
      "cell_type": "code",
      "source": [
        "from tensorflow.keras.datasets import mnist"
      ],
      "metadata": {
        "id": "j4zWkmun1k1T"
      },
      "execution_count": 14,
      "outputs": []
    },
    {
      "cell_type": "markdown",
      "source": [
        "Kode tersebut mengimpor dataset MNIST dari TensorFlow. Dataset ini berisi gambar-gambar angka tulisan tangan yang umumnya digunakan untuk melatih model dalam mengenali angka."
      ],
      "metadata": {
        "id": "m_RmZrGrcAEj"
      }
    },
    {
      "cell_type": "code",
      "source": [
        "(train_data, train_labels), (test_data, test_labels) = mnist.load_data()"
      ],
      "metadata": {
        "colab": {
          "base_uri": "https://localhost:8080/"
        },
        "id": "Mj7YJGVe191u",
        "outputId": "6af1aa9e-2267-4537-f306-74750c86f40b"
      },
      "execution_count": 15,
      "outputs": [
        {
          "output_type": "stream",
          "name": "stdout",
          "text": [
            "Downloading data from https://storage.googleapis.com/tensorflow/tf-keras-datasets/mnist.npz\n",
            "11490434/11490434 [==============================] - 2s 0us/step\n"
          ]
        }
      ]
    },
    {
      "cell_type": "markdown",
      "source": [
        "Baris kode tersebut memuat dataset MNIST dari TensorFlow ke dalam empat variabel:\n",
        "\n",
        "- `train_data`: Berisi gambar-gambar angka tulisan tangan yang digunakan untuk melatih model.\n",
        "- `train_labels`: Menyimpan label atau kelas yang sesuai dengan gambar-gambar pelatihan dalam `train_data`.\n",
        "- `test_data`: Berisi gambar-gambar yang digunakan untuk menguji performa model.\n",
        "- `test_labels`: Menyimpan label atau kelas yang sesuai dengan gambar-gambar pengujian dalam `test_data`.\n",
        "\n",
        "Data latih (`train_data` dan `train_labels`) digunakan untuk melatih model, sedangkan data uji (`test_data` dan `test_labels`) digunakan untuk menguji kinerja model pada data baru yang tidak pernah dilihat sebelumnya."
      ],
      "metadata": {
        "id": "3ibDetJHcNgo"
      }
    },
    {
      "cell_type": "code",
      "source": [
        "# Check shape data\n",
        "(train_data.shape, test_data.shape)"
      ],
      "metadata": {
        "colab": {
          "base_uri": "https://localhost:8080/"
        },
        "id": "F3RDBcd51-dW",
        "outputId": "4e15df42-449b-4d6e-d219-36cddce4cc38"
      },
      "execution_count": 16,
      "outputs": [
        {
          "output_type": "execute_result",
          "data": {
            "text/plain": [
              "((60000, 28, 28), (10000, 28, 28))"
            ]
          },
          "metadata": {},
          "execution_count": 16
        }
      ]
    },
    {
      "cell_type": "markdown",
      "source": [
        "Kode tersebut digunakan untuk memeriksa bentuk atau dimensi dari data latih (`train_data`) dan data uji (`test_data`) dalam dataset MNIST. Ini memberikan informasi tentang jumlah sampel data dan dimensi dari setiap sampel. Dalam hal ini, kode tersebut akan memberikan tuple yang berisi bentuk data (`shape`) dari `train_data` dan `test_data`."
      ],
      "metadata": {
        "id": "PRESr_oIcSf-"
      }
    },
    {
      "cell_type": "code",
      "source": [
        "# Check shape labels\n",
        "(train_labels.shape, test_labels.shape)"
      ],
      "metadata": {
        "colab": {
          "base_uri": "https://localhost:8080/"
        },
        "id": "G9YP8uuF2B0O",
        "outputId": "82c81bbb-696e-46ee-a820-76218506563c"
      },
      "execution_count": 17,
      "outputs": [
        {
          "output_type": "execute_result",
          "data": {
            "text/plain": [
              "((60000,), (10000,))"
            ]
          },
          "metadata": {},
          "execution_count": 17
        }
      ]
    },
    {
      "cell_type": "markdown",
      "source": [
        "Baris kode ini bertujuan untuk memeriksa dimensi atau bentuk dari label-label yang terkait dengan data latih (`train_labels`) dan data uji (`test_labels`) dalam dataset MNIST. Ini memberikan informasi tentang jumlah label dalam setiap set data.\n"
      ],
      "metadata": {
        "id": "JAqudrQ7cbCk"
      }
    },
    {
      "cell_type": "code",
      "source": [
        "# Check each data shape --> should be 28*28\n",
        "train_data[0].shape"
      ],
      "metadata": {
        "colab": {
          "base_uri": "https://localhost:8080/"
        },
        "id": "T0eiCCeG2DzF",
        "outputId": "c0c0cde4-5014-44c7-f351-59580f75afe2"
      },
      "execution_count": 18,
      "outputs": [
        {
          "output_type": "execute_result",
          "data": {
            "text/plain": [
              "(28, 28)"
            ]
          },
          "metadata": {},
          "execution_count": 18
        }
      ]
    },
    {
      "cell_type": "markdown",
      "source": [
        "Kode ini digunakan untuk memeriksa dimensi atau bentuk dari gambar pertama dalam data latih (`train_data`). Dalam konteks dataset MNIST, yang memiliki gambar berukuran 28x28 piksel, mengonfirmasi bahwa dimensi gambar pertama adalah 28x28 akan menunjukkan bahwa pengambilan data dilakukan dengan benar.\n",
        "\n",
        "Misalnya, jika hasilnya adalah `(28, 28)`, itu menegaskan bahwa gambar pertama dalam data latih memiliki dimensi 28x28 piksel."
      ],
      "metadata": {
        "id": "y_LKsrLMceq_"
      }
    },
    {
      "cell_type": "code",
      "source": [
        "# Check the label\n",
        "train_labels.shape"
      ],
      "metadata": {
        "colab": {
          "base_uri": "https://localhost:8080/"
        },
        "id": "DzE6NbXz2F_z",
        "outputId": "03b7a70c-d441-47f4-9786-912e73db51e5"
      },
      "execution_count": 19,
      "outputs": [
        {
          "output_type": "execute_result",
          "data": {
            "text/plain": [
              "(60000,)"
            ]
          },
          "metadata": {},
          "execution_count": 19
        }
      ]
    },
    {
      "cell_type": "markdown",
      "source": [
        "Kode `train_labels.shape` digunakan untuk memeriksa jumlah label yang terkait dengan data latih dalam dataset MNIST. Misalnya, jika hasilnya adalah `(60000,)`, itu berarti terdapat 60.000 label yang sesuai dengan data latih. Bentuk `(60000,)` menunjukkan bahwa label-label ini membentuk larik satu dimensi yang sejajar dengan jumlah data dalam set latihan."
      ],
      "metadata": {
        "id": "onY2hC4-cloh"
      }
    },
    {
      "cell_type": "markdown",
      "source": [
        "## Combine Train and Test Data"
      ],
      "metadata": {
        "id": "uc2rij6o2LeN"
      }
    },
    {
      "cell_type": "code",
      "source": [
        "digits_data = np.vstack([train_data, test_data])\n",
        "digits_labels = np.hstack([train_labels, test_labels])"
      ],
      "metadata": {
        "id": "rEhG9RkB2IZ1"
      },
      "execution_count": 20,
      "outputs": []
    },
    {
      "cell_type": "markdown",
      "source": [
        "Kode ini menggabungkan data latih (`train_data`) dan data uji (`test_data`) dari dataset MNIST ke dalam satu variabel `digits_data`. Hal yang serupa dilakukan untuk label-label yang sesuai dengan data tersebut, yang digabungkan ke dalam variabel `digits_labels`.\n",
        "\n",
        "- `np.vstack([train_data, test_data])`: Fungsi `vstack` dari NumPy digunakan untuk menggabungkan data dalam arah vertikal (menambahkan baris), sehingga menghasilkan satu set data yang berisi baik data latih maupun data uji dari dataset MNIST.\n",
        "  \n",
        "- `np.hstack([train_labels, test_labels])`: Fungsi `hstack` dari NumPy menggabungkan label-label (kelas-kelas) dari data latih dan data uji, sehingga menghasilkan satu set label yang mencakup label dari kedua set data.\n",
        "\n",
        "Ini memungkinkan untuk menggabungkan data dan label dari kedua set (latih dan uji) ke dalam satu set tunggal untuk penggunaan lebih lanjut dalam pemrosesan dan analisis."
      ],
      "metadata": {
        "id": "4XdNCQOscq7a"
      }
    },
    {
      "cell_type": "code",
      "source": [
        "# Check data shape\n",
        "digits_data.shape"
      ],
      "metadata": {
        "colab": {
          "base_uri": "https://localhost:8080/"
        },
        "id": "ex42FT-s2PfD",
        "outputId": "952614c2-1324-4635-c2e9-a3c818b6e837"
      },
      "execution_count": 21,
      "outputs": [
        {
          "output_type": "execute_result",
          "data": {
            "text/plain": [
              "(70000, 28, 28)"
            ]
          },
          "metadata": {},
          "execution_count": 21
        }
      ]
    },
    {
      "cell_type": "markdown",
      "source": [
        "Perintah `digits_data.shape` digunakan untuk memeriksa dimensi atau bentuk dari variabel `digits_data`, yang berisi gabungan dari data latih dan data uji dari dataset MNIST.\n",
        "\n"
      ],
      "metadata": {
        "id": "nrzSKHi1cvXp"
      }
    },
    {
      "cell_type": "code",
      "source": [
        "# Check label shape\n",
        "digits_labels.shape"
      ],
      "metadata": {
        "colab": {
          "base_uri": "https://localhost:8080/"
        },
        "id": "0eZ-n-Dq2RRn",
        "outputId": "90a42485-1348-4072-800c-ca40008a2ff7"
      },
      "execution_count": 22,
      "outputs": [
        {
          "output_type": "execute_result",
          "data": {
            "text/plain": [
              "(70000,)"
            ]
          },
          "metadata": {},
          "execution_count": 22
        }
      ]
    },
    {
      "cell_type": "markdown",
      "source": [
        "Kode `digits_labels.shape` digunakan untuk memeriksa dimensi atau bentuk dari variabel `digits_labels`, yang berisi label-label yang telah digabungkan dari data latih dan data uji dalam dataset MNIST.\n",
        "\n"
      ],
      "metadata": {
        "id": "aveEklvdc5u5"
      }
    },
    {
      "cell_type": "code",
      "source": [
        "# Randomly checking the data\n",
        "idx = np.random.randint(0, digits_data.shape[0])\n",
        "plt.imshow(digits_data[idx], cmap='gray')\n",
        "plt.title('Class: ' + str(digits_labels[idx]))"
      ],
      "metadata": {
        "colab": {
          "base_uri": "https://localhost:8080/",
          "height": 469
        },
        "id": "i8DHrhra2THa",
        "outputId": "67457b9a-b2db-490a-fd8f-31b232f81d57"
      },
      "execution_count": 23,
      "outputs": [
        {
          "output_type": "execute_result",
          "data": {
            "text/plain": [
              "Text(0.5, 1.0, 'Class: 4')"
            ]
          },
          "metadata": {},
          "execution_count": 23
        },
        {
          "output_type": "display_data",
          "data": {
            "text/plain": [
              "<Figure size 640x480 with 1 Axes>"
            ],
            "image/png": "[encoded data removed]"
          },
          "metadata": {}
        }
      ]
    },
    {
      "cell_type": "markdown",
      "source": [
        "Kode ini bertujuan untuk secara acak memilih satu sampel dari `digits_data`, kemudian menampilkannya sebagai gambar menggunakan `plt.imshow()` dari Matplotlib dengan skema warna abu-abu (`cmap='gray'`). Selain itu, kode juga menampilkan judul gambar dengan kelas atau label yang sesuai, diambil dari `digits_labels`.\n",
        "\n",
        "Ini membantu dalam memeriksa secara visual salah satu gambar dari dataset MNIST dan menampilkan label atau kelas yang dikaitkan dengan gambar tersebut."
      ],
      "metadata": {
        "id": "bY1n7TVZc_Dy"
      }
    },
    {
      "cell_type": "code",
      "source": [
        "# Check data distribution\n",
        "df_labels = pd.DataFrame(digits_labels, columns=['Labels'])\n",
        "sns.countplot(df_labels, x='Labels')"
      ],
      "metadata": {
        "colab": {
          "base_uri": "https://localhost:8080/",
          "height": 466
        },
        "id": "NjDzPvJk2W0A",
        "outputId": "d05a93ea-1544-48d5-da07-7602c8af0da8"
      },
      "execution_count": 24,
      "outputs": [
        {
          "output_type": "execute_result",
          "data": {
            "text/plain": [
              "<Axes: xlabel='Labels', ylabel='count'>"
            ]
          },
          "metadata": {},
          "execution_count": 24
        },
        {
          "output_type": "display_data",
          "data": {
            "text/plain": [
              "<Figure size 640x480 with 1 Axes>"
            ],
            "image/png": "[encoded data removed]"
          },
          "metadata": {}
        }
      ]
    },
    {
      "cell_type": "markdown",
      "source": [
        "Kode ini menggunakan Seaborn untuk membuat plot distribusi label dari dataset MNIST.\n",
        "\n",
        "- `pd.DataFrame(digits_labels, columns=['Labels'])`: Membuat DataFrame Pandas dari `digits_labels` (label-label yang telah digabungkan) dengan satu kolom bernama 'Labels'.\n",
        "- `sns.countplot(df_labels, x='Labels')`: Menggunakan Seaborn untuk membuat count plot dari label-label di DataFrame yang telah dibuat. Count plot ini menghitung jumlah kemunculan setiap label dalam dataset dan menampilkannya dalam bentuk grafik batang.\n",
        "\n",
        "Plot ini memberikan gambaran tentang seberapa seimbang atau tidak seimbangnya distribusi label dalam dataset. Jika grafik menunjukkan bar yang memiliki tinggi yang serupa di semua kelas, itu menunjukkan distribusi yang seimbang. Namun, jika ada perbedaan tinggi yang signifikan di antara bar-bar tersebut, itu menandakan ketidakseimbangan dalam distribusi label."
      ],
      "metadata": {
        "id": "mHMuBxs7dGSb"
      }
    },
    {
      "cell_type": "markdown",
      "source": [
        "## Load Kaggle A-Z"
      ],
      "metadata": {
        "id": "7VEiY1iZ2cLk"
      }
    },
    {
      "cell_type": "code",
      "source": [
        "!wget https://iaexpert.academy/arquivos/alfabeto_A-Z.zip"
      ],
      "metadata": {
        "colab": {
          "base_uri": "https://localhost:8080/"
        },
        "id": "81YQ4LKR2ZLF",
        "outputId": "5edfb90a-ba03-4334-d5ed-47408e2a2426"
      },
      "execution_count": 25,
      "outputs": [
        {
          "output_type": "stream",
          "name": "stdout",
          "text": [
            "--2023-12-05 10:44:30--  https://iaexpert.academy/arquivos/alfabeto_A-Z.zip\n",
            "Resolving iaexpert.academy (iaexpert.academy)... 162.159.134.42\n",
            "Connecting to iaexpert.academy (iaexpert.academy)|162.159.134.42|:443... connected.\n",
            "HTTP request sent, awaiting response... 200 OK\n",
            "Length: 193643888 (185M) [application/zip]\n",
            "Saving to: ‘alfabeto_A-Z.zip’\n",
            "\n",
            "alfabeto_A-Z.zip    100%[===================>] 184.67M   197MB/s    in 0.9s    \n",
            "\n",
            "2023-12-05 10:44:32 (197 MB/s) - ‘alfabeto_A-Z.zip’ saved [193643888/193643888]\n",
            "\n"
          ]
        }
      ]
    },
    {
      "cell_type": "markdown",
      "source": [
        "Kode `!wget https://iaexpert.academy/arquivos/alfabeto_A-Z.zip` digunakan untuk mengunduh file ZIP yang berisi data alfabet A-Z dari URL yang diberikan."
      ],
      "metadata": {
        "id": "54dVKOzAdRtu"
      }
    },
    {
      "cell_type": "code",
      "source": [
        "# Extract zip file\n",
        "zip_object = zipfile.ZipFile(file = 'alfabeto_A-Z.zip', mode = 'r')\n",
        "zip_object.extractall('./')\n",
        "zip_object.close()"
      ],
      "metadata": {
        "id": "UZf_1FW12fSy"
      },
      "execution_count": 26,
      "outputs": []
    },
    {
      "cell_type": "markdown",
      "source": [
        "Kode ini bertujuan untuk mengekstrak isi dari file ZIP yang telah diunduh ke dalam direktori kerja saat ini.\n",
        "\n",
        "- `zipfile.ZipFile(file='alfabeto_A-Z.zip', mode='r')`: Membuat objek zip dengan mode 'r' (read) untuk membaca file ZIP bernama 'alfabeto_A-Z.zip'.\n",
        "- `zip_object.extractall('./')`: Menggunakan method `extractall()` dari objek zip untuk mengekstrak semua isi file ZIP ke dalam direktori saat ini (`'./'`).\n",
        "- `zip_object.close()`: Menutup objek zip setelah operasi pengekstrakan selesai.\n",
        "\n",
        "Dengan cara ini, kode ini menghasilkan ekstraksi seluruh isi dari file ZIP 'alfabeto_A-Z.zip' ke dalam direktori kerja saat ini."
      ],
      "metadata": {
        "id": "saINfxD_dWDP"
      }
    },
    {
      "cell_type": "code",
      "source": [
        "dataset_az = pd.read_csv('A_Z Handwritten Data.csv').astype('float32')\n",
        "dataset_az"
      ],
      "metadata": {
        "colab": {
          "base_uri": "https://localhost:8080/",
          "height": 424
        },
        "id": "XrXw-uT22iJO",
        "outputId": "0a7c00db-9925-42f0-df79-80825b546722"
      },
      "execution_count": 27,
      "outputs": [
        {
          "output_type": "execute_result",
          "data": {
            "text/plain": [
              "           0  0.1  0.2  0.3  0.4  0.5  0.6  0.7  0.8  0.9  ...  0.639  0.640  \\\n",
              "0        0.0  0.0  0.0  0.0  0.0  0.0  0.0  0.0  0.0  0.0  ...    0.0    0.0   \n",
              "1        0.0  0.0  0.0  0.0  0.0  0.0  0.0  0.0  0.0  0.0  ...    0.0    0.0   \n",
              "2        0.0  0.0  0.0  0.0  0.0  0.0  0.0  0.0  0.0  0.0  ...    0.0    0.0   \n",
              "3        0.0  0.0  0.0  0.0  0.0  0.0  0.0  0.0  0.0  0.0  ...    0.0    0.0   \n",
              "4        0.0  0.0  0.0  0.0  0.0  0.0  0.0  0.0  0.0  0.0  ...    0.0    0.0   \n",
              "...      ...  ...  ...  ...  ...  ...  ...  ...  ...  ...  ...    ...    ...   \n",
              "372445  25.0  0.0  0.0  0.0  0.0  0.0  0.0  0.0  0.0  0.0  ...    0.0    0.0   \n",
              "372446  25.0  0.0  0.0  0.0  0.0  0.0  0.0  0.0  0.0  0.0  ...    0.0    0.0   \n",
              "372447  25.0  0.0  0.0  0.0  0.0  0.0  0.0  0.0  0.0  0.0  ...    0.0    0.0   \n",
              "372448  25.0  0.0  0.0  0.0  0.0  0.0  0.0  0.0  0.0  0.0  ...    0.0    0.0   \n",
              "372449  25.0  0.0  0.0  0.0  0.0  0.0  0.0  0.0  0.0  0.0  ...    0.0    0.0   \n",
              "\n",
              "        0.641  0.642  0.643  0.644  0.645  0.646  0.647  0.648  \n",
              "0         0.0    0.0    0.0    0.0    0.0    0.0    0.0    0.0  \n",
              "1         0.0    0.0    0.0    0.0    0.0    0.0    0.0    0.0  \n",
              "2         0.0    0.0    0.0    0.0    0.0    0.0    0.0    0.0  \n",
              "3         0.0    0.0    0.0    0.0    0.0    0.0    0.0    0.0  \n",
              "4         0.0    0.0    0.0    0.0    0.0    0.0    0.0    0.0  \n",
              "...       ...    ...    ...    ...    ...    ...    ...    ...  \n",
              "372445    0.0    0.0    0.0    0.0    0.0    0.0    0.0    0.0  \n",
              "372446    0.0    0.0    0.0    0.0    0.0    0.0    0.0    0.0  \n",
              "372447    0.0    0.0    0.0    0.0    0.0    0.0    0.0    0.0  \n",
              "372448    0.0    0.0    0.0    0.0    0.0    0.0    0.0    0.0  \n",
              "372449    0.0    0.0    0.0    0.0    0.0    0.0    0.0    0.0  \n",
              "\n",
              "[372450 rows x 785 columns]"
            ],
            "text/html": [
              "\n",
              "  <div id=\"df-317123a4-4a9f-4556-9b0a-01d807105782\" class=\"colab-df-container\">\n",
              "    <div>\n",
              "<style scoped>\n",
              "    .dataframe tbody tr th:only-of-type {\n",
              "        vertical-align: middle;\n",
              "    }\n",
              "\n",
              "    .dataframe tbody tr th {\n",
              "        vertical-align: top;\n",
              "    }\n",
              "\n",
              "    .dataframe thead th {\n",
              "        text-align: right;\n",
              "    }\n",
              "</style>\n",
              "<table border=\"1\" class=\"dataframe\">\n",
              "  <thead>\n",
              "    <tr style=\"text-align: right;\">\n",
              "      <th></th>\n",
              "      <th>0</th>\n",
              "      <th>0.1</th>\n",
              "      <th>0.2</th>\n",
              "      <th>0.3</th>\n",
              "      <th>0.4</th>\n",
              "      <th>0.5</th>\n",
              "      <th>0.6</th>\n",
              "      <th>0.7</th>\n",
              "      <th>0.8</th>\n",
              "      <th>0.9</th>\n",
              "      <th>...</th>\n",
              "      <th>0.639</th>\n",
              "      <th>0.640</th>\n",
              "      <th>0.641</th>\n",
              "      <th>0.642</th>\n",
              "      <th>0.643</th>\n",
              "      <th>0.644</th>\n",
              "      <th>0.645</th>\n",
              "      <th>0.646</th>\n",
              "      <th>0.647</th>\n",
              "      <th>0.648</th>\n",
              "    </tr>\n",
              "  </thead>\n",
              "  <tbody>\n",
              "    <tr>\n",
              "      <th>0</th>\n",
              "      <td>0.0</td>\n",
              "      <td>0.0</td>\n",
              "      <td>0.0</td>\n",
              "      <td>0.0</td>\n",
              "      <td>0.0</td>\n",
              "      <td>0.0</td>\n",
              "      <td>0.0</td>\n",
              "      <td>0.0</td>\n",
              "      <td>0.0</td>\n",
              "      <td>0.0</td>\n",
              "      <td>...</td>\n",
              "      <td>0.0</td>\n",
              "      <td>0.0</td>\n",
              "      <td>0.0</td>\n",
              "      <td>0.0</td>\n",
              "      <td>0.0</td>\n",
              "      <td>0.0</td>\n",
              "      <td>0.0</td>\n",
              "      <td>0.0</td>\n",
              "      <td>0.0</td>\n",
              "      <td>0.0</td>\n",
              "    </tr>\n",
              "    <tr>\n",
              "      <th>1</th>\n",
              "      <td>0.0</td>\n",
              "      <td>0.0</td>\n",
              "      <td>0.0</td>\n",
              "      <td>0.0</td>\n",
              "      <td>0.0</td>\n",
              "      <td>0.0</td>\n",
              "      <td>0.0</td>\n",
              "      <td>0.0</td>\n",
              "      <td>0.0</td>\n",
              "      <td>0.0</td>\n",
              "      <td>...</td>\n",
              "      <td>0.0</td>\n",
              "      <td>0.0</td>\n",
              "      <td>0.0</td>\n",
              "      <td>0.0</td>\n",
              "      <td>0.0</td>\n",
              "      <td>0.0</td>\n",
              "      <td>0.0</td>\n",
              "      <td>0.0</td>\n",
              "      <td>0.0</td>\n",
              "      <td>0.0</td>\n",
              "    </tr>\n",
              "    <tr>\n",
              "      <th>2</th>\n",
              "      <td>0.0</td>\n",
              "      <td>0.0</td>\n",
              "      <td>0.0</td>\n",
              "      <td>0.0</td>\n",
              "      <td>0.0</td>\n",
              "      <td>0.0</td>\n",
              "      <td>0.0</td>\n",
              "      <td>0.0</td>\n",
              "      <td>0.0</td>\n",
              "      <td>0.0</td>\n",
              "      <td>...</td>\n",
              "      <td>0.0</td>\n",
              "      <td>0.0</td>\n",
              "      <td>0.0</td>\n",
              "      <td>0.0</td>\n",
              "      <td>0.0</td>\n",
              "      <td>0.0</td>\n",
              "      <td>0.0</td>\n",
              "      <td>0.0</td>\n",
              "      <td>0.0</td>\n",
              "      <td>0.0</td>\n",
              "    </tr>\n",
              "    <tr>\n",
              "      <th>3</th>\n",
              "      <td>0.0</td>\n",
              "      <td>0.0</td>\n",
              "      <td>0.0</td>\n",
              "      <td>0.0</td>\n",
              "      <td>0.0</td>\n",
              "      <td>0.0</td>\n",
              "      <td>0.0</td>\n",
              "      <td>0.0</td>\n",
              "      <td>0.0</td>\n",
              "      <td>0.0</td>\n",
              "      <td>...</td>\n",
              "      <td>0.0</td>\n",
              "      <td>0.0</td>\n",
              "      <td>0.0</td>\n",
              "      <td>0.0</td>\n",
              "      <td>0.0</td>\n",
              "      <td>0.0</td>\n",
              "      <td>0.0</td>\n",
              "      <td>0.0</td>\n",
              "      <td>0.0</td>\n",
              "      <td>0.0</td>\n",
              "    </tr>\n",
              "    <tr>\n",
              "      <th>4</th>\n",
              "      <td>0.0</td>\n",
              "      <td>0.0</td>\n",
              "      <td>0.0</td>\n",
              "      <td>0.0</td>\n",
              "      <td>0.0</td>\n",
              "      <td>0.0</td>\n",
              "      <td>0.0</td>\n",
              "      <td>0.0</td>\n",
              "      <td>0.0</td>\n",
              "      <td>0.0</td>\n",
              "      <td>...</td>\n",
              "      <td>0.0</td>\n",
              "      <td>0.0</td>\n",
              "      <td>0.0</td>\n",
              "      <td>0.0</td>\n",
              "      <td>0.0</td>\n",
              "      <td>0.0</td>\n",
              "      <td>0.0</td>\n",
              "      <td>0.0</td>\n",
              "      <td>0.0</td>\n",
              "      <td>0.0</td>\n",
              "    </tr>\n",
              "    <tr>\n",
              "      <th>...</th>\n",
              "      <td>...</td>\n",
              "      <td>...</td>\n",
              "      <td>...</td>\n",
              "      <td>...</td>\n",
              "      <td>...</td>\n",
              "      <td>...</td>\n",
              "      <td>...</td>\n",
              "      <td>...</td>\n",
              "      <td>...</td>\n",
              "      <td>...</td>\n",
              "      <td>...</td>\n",
              "      <td>...</td>\n",
              "      <td>...</td>\n",
              "      <td>...</td>\n",
              "      <td>...</td>\n",
              "      <td>...</td>\n",
              "      <td>...</td>\n",
              "      <td>...</td>\n",
              "      <td>...</td>\n",
              "      <td>...</td>\n",
              "      <td>...</td>\n",
              "    </tr>\n",
              "    <tr>\n",
              "      <th>372445</th>\n",
              "      <td>25.0</td>\n",
              "      <td>0.0</td>\n",
              "      <td>0.0</td>\n",
              "      <td>0.0</td>\n",
              "      <td>0.0</td>\n",
              "      <td>0.0</td>\n",
              "      <td>0.0</td>\n",
              "      <td>0.0</td>\n",
              "      <td>0.0</td>\n",
              "      <td>0.0</td>\n",
              "      <td>...</td>\n",
              "      <td>0.0</td>\n",
              "      <td>0.0</td>\n",
              "      <td>0.0</td>\n",
              "      <td>0.0</td>\n",
              "      <td>0.0</td>\n",
              "      <td>0.0</td>\n",
              "      <td>0.0</td>\n",
              "      <td>0.0</td>\n",
              "      <td>0.0</td>\n",
              "      <td>0.0</td>\n",
              "    </tr>\n",
              "    <tr>\n",
              "      <th>372446</th>\n",
              "      <td>25.0</td>\n",
              "      <td>0.0</td>\n",
              "      <td>0.0</td>\n",
              "      <td>0.0</td>\n",
              "      <td>0.0</td>\n",
              "      <td>0.0</td>\n",
              "      <td>0.0</td>\n",
              "      <td>0.0</td>\n",
              "      <td>0.0</td>\n",
              "      <td>0.0</td>\n",
              "      <td>...</td>\n",
              "      <td>0.0</td>\n",
              "      <td>0.0</td>\n",
              "      <td>0.0</td>\n",
              "      <td>0.0</td>\n",
              "      <td>0.0</td>\n",
              "      <td>0.0</td>\n",
              "      <td>0.0</td>\n",
              "      <td>0.0</td>\n",
              "      <td>0.0</td>\n",
              "      <td>0.0</td>\n",
              "    </tr>\n",
              "    <tr>\n",
              "      <th>372447</th>\n",
              "      <td>25.0</td>\n",
              "      <td>0.0</td>\n",
              "      <td>0.0</td>\n",
              "      <td>0.0</td>\n",
              "      <td>0.0</td>\n",
              "      <td>0.0</td>\n",
              "      <td>0.0</td>\n",
              "      <td>0.0</td>\n",
              "      <td>0.0</td>\n",
              "      <td>0.0</td>\n",
              "      <td>...</td>\n",
              "      <td>0.0</td>\n",
              "      <td>0.0</td>\n",
              "      <td>0.0</td>\n",
              "      <td>0.0</td>\n",
              "      <td>0.0</td>\n",
              "      <td>0.0</td>\n",
              "      <td>0.0</td>\n",
              "      <td>0.0</td>\n",
              "      <td>0.0</td>\n",
              "      <td>0.0</td>\n",
              "    </tr>\n",
              "    <tr>\n",
              "      <th>372448</th>\n",
              "      <td>25.0</td>\n",
              "      <td>0.0</td>\n",
              "      <td>0.0</td>\n",
              "      <td>0.0</td>\n",
              "      <td>0.0</td>\n",
              "      <td>0.0</td>\n",
              "      <td>0.0</td>\n",
              "      <td>0.0</td>\n",
              "      <td>0.0</td>\n",
              "      <td>0.0</td>\n",
              "      <td>...</td>\n",
              "      <td>0.0</td>\n",
              "      <td>0.0</td>\n",
              "      <td>0.0</td>\n",
              "      <td>0.0</td>\n",
              "      <td>0.0</td>\n",
              "      <td>0.0</td>\n",
              "      <td>0.0</td>\n",
              "      <td>0.0</td>\n",
              "      <td>0.0</td>\n",
              "      <td>0.0</td>\n",
              "    </tr>\n",
              "    <tr>\n",
              "      <th>372449</th>\n",
              "      <td>25.0</td>\n",
              "      <td>0.0</td>\n",
              "      <td>0.0</td>\n",
              "      <td>0.0</td>\n",
              "      <td>0.0</td>\n",
              "      <td>0.0</td>\n",
              "      <td>0.0</td>\n",
              "      <td>0.0</td>\n",
              "      <td>0.0</td>\n",
              "      <td>0.0</td>\n",
              "      <td>...</td>\n",
              "      <td>0.0</td>\n",
              "      <td>0.0</td>\n",
              "      <td>0.0</td>\n",
              "      <td>0.0</td>\n",
              "      <td>0.0</td>\n",
              "      <td>0.0</td>\n",
              "      <td>0.0</td>\n",
              "      <td>0.0</td>\n",
              "      <td>0.0</td>\n",
              "      <td>0.0</td>\n",
              "    </tr>\n",
              "  </tbody>\n",
              "</table>\n",
              "<p>372450 rows × 785 columns</p>\n",
              "</div>\n",
              "    <div class=\"colab-df-buttons\">\n",
              "\n",
              "  <div class=\"colab-df-container\">\n",
              "    <button class=\"colab-df-convert\" onclick=\"convertToInteractive('df-317123a4-4a9f-4556-9b0a-01d807105782')\"\n",
              "            title=\"Convert this dataframe to an interactive table.\"\n",
              "            style=\"display:none;\">\n",
              "\n",
              "  <svg xmlns=\"http://www.w3.org/2000/svg\" height=\"24px\" viewBox=\"0 -960 960 960\">\n",
              "    <path d=\"M120-120v-720h720v720H120Zm60-500h600v-160H180v160Zm220 220h160v-160H400v160Zm0 220h160v-160H400v160ZM180-400h160v-160H180v160Zm440 0h160v-160H620v160ZM180-180h160v-160H180v160Zm440 0h160v-160H620v160Z\"/>\n",
              "  </svg>\n",
              "    </button>\n",
              "\n",
              "  <style>\n",
              "    .colab-df-container {\n",
              "      display:flex;\n",
              "      gap: 12px;\n",
              "    }\n",
              "\n",
              "    .colab-df-convert {\n",
              "      background-color: #E8F0FE;\n",
              "      border: none;\n",
              "      border-radius: 50%;\n",
              "      cursor: pointer;\n",
              "      display: none;\n",
              "      fill: #1967D2;\n",
              "      height: 32px;\n",
              "      padding: 0 0 0 0;\n",
              "      width: 32px;\n",
              "    }\n",
              "\n",
              "    .colab-df-convert:hover {\n",
              "      background-color: #E2EBFA;\n",
              "      box-shadow: 0px 1px 2px rgba(60, 64, 67, 0.3), 0px 1px 3px 1px rgba(60, 64, 67, 0.15);\n",
              "      fill: #174EA6;\n",
              "    }\n",
              "\n",
              "    .colab-df-buttons div {\n",
              "      margin-bottom: 4px;\n",
              "    }\n",
              "\n",
              "    [theme=dark] .colab-df-convert {\n",
              "      background-color: #3B4455;\n",
              "      fill: #D2E3FC;\n",
              "    }\n",
              "\n",
              "    [theme=dark] .colab-df-convert:hover {\n",
              "      background-color: #434B5C;\n",
              "      box-shadow: 0px 1px 3px 1px rgba(0, 0, 0, 0.15);\n",
              "      filter: drop-shadow(0px 1px 2px rgba(0, 0, 0, 0.3));\n",
              "      fill: #FFFFFF;\n",
              "    }\n",
              "  </style>\n",
              "\n",
              "    <script>\n",
              "      const buttonEl =\n",
              "        document.querySelector('#df-317123a4-4a9f-4556-9b0a-01d807105782 button.colab-df-convert');\n",
              "      buttonEl.style.display =\n",
              "        google.colab.kernel.accessAllowed ? 'block' : 'none';\n",
              "\n",
              "      async function convertToInteractive(key) {\n",
              "        const element = document.querySelector('#df-317123a4-4a9f-4556-9b0a-01d807105782');\n",
              "        const dataTable =\n",
              "          await google.colab.kernel.invokeFunction('convertToInteractive',\n",
              "                                                    [key], {});\n",
              "        if (!dataTable) return;\n",
              "\n",
              "        const docLinkHtml = 'Like what you see? Visit the ' +\n",
              "          '<a target=\"_blank\" href=https://colab.research.google.com/notebooks/data_table.ipynb>data table notebook</a>'\n",
              "          + ' to learn more about interactive tables.';\n",
              "        element.innerHTML = '';\n",
              "        dataTable['output_type'] = 'display_data';\n",
              "        await google.colab.output.renderOutput(dataTable, element);\n",
              "        const docLink = document.createElement('div');\n",
              "        docLink.innerHTML = docLinkHtml;\n",
              "        element.appendChild(docLink);\n",
              "      }\n",
              "    </script>\n",
              "  </div>\n",
              "\n",
              "\n",
              "<div id=\"df-2d0b0cea-cc3b-4151-ac3c-eaa81756d78b\">\n",
              "  <button class=\"colab-df-quickchart\" onclick=\"quickchart('df-2d0b0cea-cc3b-4151-ac3c-eaa81756d78b')\"\n",
              "            title=\"Suggest charts\"\n",
              "            style=\"display:none;\">\n",
              "\n",
              "<svg xmlns=\"http://www.w3.org/2000/svg\" height=\"24px\"viewBox=\"0 0 24 24\"\n",
              "     width=\"24px\">\n",
              "    <g>\n",
              "        <path d=\"M19 3H5c-1.1 0-2 .9-2 2v14c0 1.1.9 2 2 2h14c1.1 0 2-.9 2-2V5c0-1.1-.9-2-2-2zM9 17H7v-7h2v7zm4 0h-2V7h2v10zm4 0h-2v-4h2v4z\"/>\n",
              "    </g>\n",
              "</svg>\n",
              "  </button>\n",
              "\n",
              "<style>\n",
              "  .colab-df-quickchart {\n",
              "      --bg-color: #E8F0FE;\n",
              "      --fill-color: #1967D2;\n",
              "      --hover-bg-color: #E2EBFA;\n",
              "      --hover-fill-color: #174EA6;\n",
              "      --disabled-fill-color: #AAA;\n",
              "      --disabled-bg-color: #DDD;\n",
              "  }\n",
              "\n",
              "  [theme=dark] .colab-df-quickchart {\n",
              "      --bg-color: #3B4455;\n",
              "      --fill-color: #D2E3FC;\n",
              "      --hover-bg-color: #434B5C;\n",
              "      --hover-fill-color: #FFFFFF;\n",
              "      --disabled-bg-color: #3B4455;\n",
              "      --disabled-fill-color: #666;\n",
              "  }\n",
              "\n",
              "  .colab-df-quickchart {\n",
              "    background-color: var(--bg-color);\n",
              "    border: none;\n",
              "    border-radius: 50%;\n",
              "    cursor: pointer;\n",
              "    display: none;\n",
              "    fill: var(--fill-color);\n",
              "    height: 32px;\n",
              "    padding: 0;\n",
              "    width: 32px;\n",
              "  }\n",
              "\n",
              "  .colab-df-quickchart:hover {\n",
              "    background-color: var(--hover-bg-color);\n",
              "    box-shadow: 0 1px 2px rgba(60, 64, 67, 0.3), 0 1px 3px 1px rgba(60, 64, 67, 0.15);\n",
              "    fill: var(--button-hover-fill-color);\n",
              "  }\n",
              "\n",
              "  .colab-df-quickchart-complete:disabled,\n",
              "  .colab-df-quickchart-complete:disabled:hover {\n",
              "    background-color: var(--disabled-bg-color);\n",
              "    fill: var(--disabled-fill-color);\n",
              "    box-shadow: none;\n",
              "  }\n",
              "\n",
              "  .colab-df-spinner {\n",
              "    border: 2px solid var(--fill-color);\n",
              "    border-color: transparent;\n",
              "    border-bottom-color: var(--fill-color);\n",
              "    animation:\n",
              "      spin 1s steps(1) infinite;\n",
              "  }\n",
              "\n",
              "  @keyframes spin {\n",
              "    0% {\n",
              "      border-color: transparent;\n",
              "      border-bottom-color: var(--fill-color);\n",
              "      border-left-color: var(--fill-color);\n",
              "    }\n",
              "    20% {\n",
              "      border-color: transparent;\n",
              "      border-left-color: var(--fill-color);\n",
              "      border-top-color: var(--fill-color);\n",
              "    }\n",
              "    30% {\n",
              "      border-color: transparent;\n",
              "      border-left-color: var(--fill-color);\n",
              "      border-top-color: var(--fill-color);\n",
              "      border-right-color: var(--fill-color);\n",
              "    }\n",
              "    40% {\n",
              "      border-color: transparent;\n",
              "      border-right-color: var(--fill-color);\n",
              "      border-top-color: var(--fill-color);\n",
              "    }\n",
              "    60% {\n",
              "      border-color: transparent;\n",
              "      border-right-color: var(--fill-color);\n",
              "    }\n",
              "    80% {\n",
              "      border-color: transparent;\n",
              "      border-right-color: var(--fill-color);\n",
              "      border-bottom-color: var(--fill-color);\n",
              "    }\n",
              "    90% {\n",
              "      border-color: transparent;\n",
              "      border-bottom-color: var(--fill-color);\n",
              "    }\n",
              "  }\n",
              "</style>\n",
              "\n",
              "  <script>\n",
              "    async function quickchart(key) {\n",
              "      const quickchartButtonEl =\n",
              "        document.querySelector('#' + key + ' button');\n",
              "      quickchartButtonEl.disabled = true;  // To prevent multiple clicks.\n",
              "      quickchartButtonEl.classList.add('colab-df-spinner');\n",
              "      try {\n",
              "        const charts = await google.colab.kernel.invokeFunction(\n",
              "            'suggestCharts', [key], {});\n",
              "      } catch (error) {\n",
              "        console.error('Error during call to suggestCharts:', error);\n",
              "      }\n",
              "      quickchartButtonEl.classList.remove('colab-df-spinner');\n",
              "      quickchartButtonEl.classList.add('colab-df-quickchart-complete');\n",
              "    }\n",
              "    (() => {\n",
              "      let quickchartButtonEl =\n",
              "        document.querySelector('#df-2d0b0cea-cc3b-4151-ac3c-eaa81756d78b button');\n",
              "      quickchartButtonEl.style.display =\n",
              "        google.colab.kernel.accessAllowed ? 'block' : 'none';\n",
              "    })();\n",
              "  </script>\n",
              "</div>\n",
              "    </div>\n",
              "  </div>\n"
            ]
          },
          "metadata": {},
          "execution_count": 27
        }
      ]
    },
    {
      "cell_type": "markdown",
      "source": [
        "Kode tersebut membaca file CSV yang disebut 'A_Z Handwritten Data.csv' dan memuatnya ke dalam suatu DataFrame menggunakan Pandas. Selain itu, dengan metode `astype('float32')`, semua nilai dalam DataFrame dikonversi menjadi tipe data float32.\n",
        "\n",
        "Setelah file CSV dibaca dan dimuat ke dalam variabel `dataset_az`, jika Anda menjalankan kode `dataset_az`, itu akan menampilkan isi dari DataFrame tersebut. DataFrame ini mungkin berisi data dari kumpulan tulisan tangan alfabet A-Z."
      ],
      "metadata": {
        "id": "MtZ_t_D4dZ1J"
      }
    },
    {
      "cell_type": "code",
      "source": [
        "# Get pixel data only\n",
        "alphabet_data = dataset_az.drop('0', axis=1)\n",
        "# Get labels only\n",
        "alphabet_labels = dataset_az['0']"
      ],
      "metadata": {
        "id": "jhllTuUX2mXI"
      },
      "execution_count": 28,
      "outputs": []
    },
    {
      "cell_type": "markdown",
      "source": [
        "Kode tersebut melakukan pemisahan data dari DataFrame `dataset_az` menjadi dua bagian:\n",
        "\n",
        "1. `alphabet_data = dataset_az.drop('0', axis=1)`: Variabel `alphabet_data` berisi data piksel dari dataset tulisan tangan alfabet A-Z. Baris ini menghapus kolom dengan label '0' dari `dataset_az` menggunakan `drop()` dengan `axis=1` yang menyatakan penghapusan berdasarkan kolom. Ini menghasilkan variabel `alphabet_data` yang hanya berisi data piksel (tanpa kolom label).\n",
        "\n",
        "2. `alphabet_labels = dataset_az['0']`: Variabel `alphabet_labels` berisi label atau kelas dari dataset tulisan tangan alfabet A-Z. Ini menyimpan kolom dengan label '0' dari `dataset_az`, sehingga `alphabet_labels` hanya berisi label untuk setiap sampel data."
      ],
      "metadata": {
        "id": "XiszzfShdeZS"
      }
    },
    {
      "cell_type": "code",
      "source": [
        "# Check shape data\n",
        "alphabet_data.shape, alphabet_labels.shape"
      ],
      "metadata": {
        "colab": {
          "base_uri": "https://localhost:8080/"
        },
        "id": "Mr19fqMo2r1h",
        "outputId": "1b61202d-df96-4df1-e281-2d08b2e22ec0"
      },
      "execution_count": 29,
      "outputs": [
        {
          "output_type": "execute_result",
          "data": {
            "text/plain": [
              "((372450, 784), (372450,))"
            ]
          },
          "metadata": {},
          "execution_count": 29
        }
      ]
    },
    {
      "cell_type": "markdown",
      "source": [
        "Kode `alphabet_data.shape` dan `alphabet_labels.shape` digunakan untuk memeriksa dimensi atau bentuk dari variabel `alphabet_data` (data piksel) dan `alphabet_labels` (label atau kelas) yang berasal dari dataset tulisan tangan alfabet A-Z.\n",
        "\n",
        "Misalnya, jika hasilnya adalah `(jumlah_baris, jumlah_kolom)` untuk `alphabet_data` dan `(jumlah_data,)` untuk `alphabet_labels`, itu menunjukkan:\n",
        "\n",
        "- `alphabet_data.shape` akan memberikan informasi tentang jumlah sampel dan jumlah fitur (piksel) dalam set data alfabet A-Z.\n",
        "- `alphabet_labels.shape` akan memberikan informasi tentang jumlah label atau kelas yang sesuai dengan set data alfabet A-Z."
      ],
      "metadata": {
        "id": "7glszS1udjkz"
      }
    },
    {
      "cell_type": "code",
      "source": [
        "# Check shape labels\n",
        "alphabet_labels.shape"
      ],
      "metadata": {
        "colab": {
          "base_uri": "https://localhost:8080/"
        },
        "id": "Acv5r3CI2t0C",
        "outputId": "f6744777-92ca-4380-9840-2b8952703966"
      },
      "execution_count": 30,
      "outputs": [
        {
          "output_type": "execute_result",
          "data": {
            "text/plain": [
              "(372450,)"
            ]
          },
          "metadata": {},
          "execution_count": 30
        }
      ]
    },
    {
      "cell_type": "markdown",
      "source": [
        "Kode `alphabet_labels.shape` digunakan untuk memeriksa dimensi atau bentuk dari variabel `alphabet_labels`, yang berisi label atau kelas dari dataset tulisan tangan alfabet A-Z.\n",
        "\n",
        "Jika hasilnya adalah `(jumlah_data,)`, itu menandakan bahwa terdapat jumlah label atau kelas yang sesuai dengan data dalam `alphabet_data`. Dalam hal ini, bentuk `(jumlah_data,)` menunjukkan bahwa `alphabet_labels` merupakan array satu dimensi yang memiliki jumlah elemen yang sama dengan jumlah data dalam `alphabet_data`."
      ],
      "metadata": {
        "id": "LXYvoFzfdnEm"
      }
    },
    {
      "cell_type": "code",
      "source": [
        "# Reshape pixel data to 28*28\n",
        "alphabet_data = np.reshape(alphabet_data.values, (alphabet_data.shape[0], 28, 28))\n",
        "# Check the result by its shape\n",
        "alphabet_data.shape"
      ],
      "metadata": {
        "colab": {
          "base_uri": "https://localhost:8080/"
        },
        "id": "PIxgplnn2v4C",
        "outputId": "d7d8bed6-4252-40f6-ae7a-6ab436bc7f33"
      },
      "execution_count": 31,
      "outputs": [
        {
          "output_type": "execute_result",
          "data": {
            "text/plain": [
              "(372450, 28, 28)"
            ]
          },
          "metadata": {},
          "execution_count": 31
        }
      ]
    },
    {
      "cell_type": "code",
      "source": [
        "# Randomly checking A-Z dataset\n",
        "index = np.random.randint(0, alphabet_data.shape[0])\n",
        "plt.imshow(alphabet_data[index], cmap = 'gray')\n",
        "plt.title('Class: ' + str(alphabet_labels[index]));"
      ],
      "metadata": {
        "colab": {
          "base_uri": "https://localhost:8080/",
          "height": 452
        },
        "id": "J8_f3cZC2xme",
        "outputId": "4641b285-2460-44f1-d458-2b3538d6f01b"
      },
      "execution_count": 32,
      "outputs": [
        {
          "output_type": "display_data",
          "data": {
            "text/plain": [
              "<Figure size 640x480 with 1 Axes>"
            ],
            "image/png": "[encoded data removed]"
          },
          "metadata": {}
        }
      ]
    },
    {
      "cell_type": "markdown",
      "source": [
        "Kode `np.reshape(alphabet_data.values, (alphabet_data.shape[0], 28, 28))` digunakan untuk mengubah bentuk atau dimensi dari data piksel dalam variabel `alphabet_data` dari bentuk datanya yang awal menjadi format gambar yang sesuai, yaitu 28x28 piksel.\n",
        "\n",
        "- `np.reshape(alphabet_data.values, (alphabet_data.shape[0], 28, 28))`: Menggunakan NumPy untuk mengubah bentuk data piksel dalam `alphabet_data` menjadi array tiga dimensi dengan ukuran (jumlah_data, 28, 28). Ini berarti setiap sampel data akan direpresentasikan sebagai gambar 28x28 piksel.\n",
        "\n",
        "Kemudian, `alphabet_data.shape` digunakan untuk memeriksa bentuk dari `alphabet_data` setelah dilakukan perubahan bentuk. Jika hasilnya adalah `(jumlah_data, 28, 28)`, itu menunjukkan bahwa data piksel telah diubah dengan benar menjadi representasi 28x28 piksel untuk setiap sampel data."
      ],
      "metadata": {
        "id": "42mJUAdLdsr4"
      }
    },
    {
      "cell_type": "code",
      "source": [
        "# Check data distribution\n",
        "df_az_labels = pd.DataFrame({\n",
        "    'Labels': alphabet_labels.values\n",
        "})\n",
        "sns.countplot(df_az_labels, x='Labels')"
      ],
      "metadata": {
        "colab": {
          "base_uri": "https://localhost:8080/",
          "height": 468
        },
        "id": "aOKRt32H2zuC",
        "outputId": "d96f9b18-3dfe-4895-acfa-4ae028f2a36a"
      },
      "execution_count": 33,
      "outputs": [
        {
          "output_type": "execute_result",
          "data": {
            "text/plain": [
              "<Axes: xlabel='Labels', ylabel='count'>"
            ]
          },
          "metadata": {},
          "execution_count": 33
        },
        {
          "output_type": "display_data",
          "data": {
            "text/plain": [
              "<Figure size 640x480 with 1 Axes>"
            ],
            "image/png": "[encoded data removed]"
          },
          "metadata": {}
        }
      ]
    },
    {
      "cell_type": "markdown",
      "source": [
        "Kode tersebut menggunakan Seaborn untuk membuat plot distribusi label dari dataset tulisan tangan alfabet A-Z setelah diubah ke dalam DataFrame Pandas.\n",
        "\n",
        "- `pd.DataFrame({'Labels': alphabet_labels.values})`: Membuat DataFrame Pandas baru dari label-label (`alphabet_labels`) dalam dataset tulisan tangan A-Z, dengan satu kolom bernama 'Labels'.\n",
        "- `sns.countplot(df_az_labels, x='Labels')`: Menggunakan Seaborn untuk membuat count plot dari label-label di DataFrame yang telah dibuat. Count plot ini menghitung jumlah kemunculan setiap label dalam dataset dan menampilkan distribusi jumlah label dalam bentuk grafik batang.\n",
        "\n",
        "Grafik ini memberikan gambaran visual tentang seberapa seimbang atau tidak seimbangnya distribusi label dalam dataset tulisan tangan alfabet A-Z. Jika grafik menunjukkan bar yang memiliki tinggi yang serupa di semua kelas, itu menunjukkan distribusi yang seimbang. Namun, jika ada perbedaan yang signifikan dalam tinggi bar-bar tersebut, itu menandakan ketidakseimbangan dalam distribusi label."
      ],
      "metadata": {
        "id": "pdYpm8PIdx2w"
      }
    },
    {
      "cell_type": "markdown",
      "source": [
        "## Combine Dataset (MNIST + Kaggel A-Z)"
      ],
      "metadata": {
        "id": "IiRasrJ723K9"
      }
    },
    {
      "cell_type": "code",
      "source": [
        "# Check unique value from digits_labels\n",
        "np.unique(digits_labels)"
      ],
      "metadata": {
        "colab": {
          "base_uri": "https://localhost:8080/"
        },
        "id": "fN0YeDA521kb",
        "outputId": "4644ff81-a253-4857-e654-c04402116215"
      },
      "execution_count": 34,
      "outputs": [
        {
          "output_type": "execute_result",
          "data": {
            "text/plain": [
              "array([0, 1, 2, 3, 4, 5, 6, 7, 8, 9], dtype=uint8)"
            ]
          },
          "metadata": {},
          "execution_count": 34
        }
      ]
    },
    {
      "cell_type": "markdown",
      "source": [
        "Kode `np.unique(digits_labels)` digunakan untuk mengecek nilai unik yang terdapat dalam `digits_labels`, yang merupakan label-label yang terkait dengan dataset MNIST (angka 0-9).\n",
        "\n",
        "Hasilnya akan menampilkan nilai-nilai unik yang muncul sebagai label dalam dataset MNIST. Jika Anda menjalankan kode ini, Anda akan melihat nilai-nilai unik yang mungkin berupa angka 0 hingga 9, sesuai dengan kelas-kelas yang ada dalam dataset MNIST."
      ],
      "metadata": {
        "id": "7ymd--NFd1eZ"
      }
    },
    {
      "cell_type": "code",
      "source": [
        "# Check unique value from alphabet_labels\n",
        "np.unique(alphabet_labels)"
      ],
      "metadata": {
        "colab": {
          "base_uri": "https://localhost:8080/"
        },
        "id": "g29XKZZi28Lb",
        "outputId": "c428cc27-ea7b-4555-a92a-ef36894406d3"
      },
      "execution_count": 35,
      "outputs": [
        {
          "output_type": "execute_result",
          "data": {
            "text/plain": [
              "array([ 0.,  1.,  2.,  3.,  4.,  5.,  6.,  7.,  8.,  9., 10., 11., 12.,\n",
              "       13., 14., 15., 16., 17., 18., 19., 20., 21., 22., 23., 24., 25.],\n",
              "      dtype=float32)"
            ]
          },
          "metadata": {},
          "execution_count": 35
        }
      ]
    },
    {
      "cell_type": "markdown",
      "source": [
        "Perintah `np.unique(alphabet_labels)` digunakan untuk menemukan nilai unik yang terdapat dalam `alphabet_labels`, yaitu label-label yang terkait dengan dataset tulisan tangan alfabet A-Z.\n",
        "\n",
        "Hasilnya menampilkan nilai-nilai unik yang ada sebagai label dalam dataset tulisan tangan alfabet A-Z. Anda akan melihat nilai-nilai unik yang mungkin merupakan representasi dari huruf-huruf A sampai Z, sesuai dengan kelas-kelas yang ada dalam dataset tersebut."
      ],
      "metadata": {
        "id": "yn1BM9twd6Wu"
      }
    },
    {
      "cell_type": "code",
      "source": [
        "# We already know that digits labels containt labels from 0-9 (10 labels)\n",
        "# We also know that alphabet labels start from 0-25 which represent A-Z\n",
        "# If we want to combine them, the A-Z labels should continuing the digits label\n",
        "\n",
        "alphabet_labels += 10"
      ],
      "metadata": {
        "id": "_17-2Y262-1K"
      },
      "execution_count": 36,
      "outputs": []
    },
    {
      "cell_type": "markdown",
      "source": [
        "Dengan menambahkan 10 ke setiap nilai dalam `alphabet_labels`, Anda menggeser label-label alfabet A-Z sehingga dimulai dari angka 10 hingga 35. Dengan cara ini, label-label untuk alfabet A-Z akan berlanjut setelah label-label untuk digit 0-9 dalam pemetaan kelas gabungan dari dataset MNIST dan dataset tulisan tangan alfabet A-Z.\n",
        "\n",
        "Ini memungkinkan penggabungan label-label dari kedua dataset tanpa tumpang tindih atau konflik antara kelas digit (0-9) dan kelas alfabet (10-35) dalam dataset gabungan."
      ],
      "metadata": {
        "id": "UgzLxUVieDw0"
      }
    },
    {
      "cell_type": "code",
      "source": [
        "# check alphabet labels again\n",
        "np.unique(alphabet_labels)"
      ],
      "metadata": {
        "colab": {
          "base_uri": "https://localhost:8080/"
        },
        "id": "mm-I8vcc3Chw",
        "outputId": "eea71876-778b-4005-e97a-40c9b9dfcfc5"
      },
      "execution_count": 37,
      "outputs": [
        {
          "output_type": "execute_result",
          "data": {
            "text/plain": [
              "array([10., 11., 12., 13., 14., 15., 16., 17., 18., 19., 20., 21., 22.,\n",
              "       23., 24., 25., 26., 27., 28., 29., 30., 31., 32., 33., 34., 35.],\n",
              "      dtype=float32)"
            ]
          },
          "metadata": {},
          "execution_count": 37
        }
      ]
    },
    {
      "cell_type": "markdown",
      "source": [
        "Jika perintah `np.unique(alphabet_labels)` dijalankan setelah penambahan 10 pada label-label alfabet A-Z, hasilnya akan menampilkan nilai-nilai unik yang sekarang dimulai dari 10 hingga 35. Nilai-nilai ini merepresentasikan label-label yang digunakan untuk menggambarkan huruf-huruf A-Z dalam dataset gabungan yang telah disiapkan."
      ],
      "metadata": {
        "id": "LRCcnut8eQOU"
      }
    },
    {
      "cell_type": "code",
      "source": [
        "# Combine both of them\n",
        "data = np.vstack([alphabet_data, digits_data])\n",
        "labels = np.hstack([alphabet_labels, digits_labels])"
      ],
      "metadata": {
        "id": "gY7_wC_83BAu"
      },
      "execution_count": 38,
      "outputs": []
    },
    {
      "cell_type": "markdown",
      "source": [
        "Kode ini menggabungkan data dari dataset tulisan tangan alfabet A-Z (`alphabet_data`) dan dataset MNIST (`digits_data`) ke dalam satu set data tunggal (`data`). Hal yang serupa dilakukan untuk label-label dari kedua dataset, yang digabungkan ke dalam satu set label tunggal (`labels`).\n",
        "\n",
        "- `np.vstack([alphabet_data, digits_data])`: Menggunakan fungsi `vstack` dari NumPy untuk menggabungkan data dalam arah vertikal (menambahkan baris), sehingga menghasilkan satu set data yang berisi baik data dari alfabet A-Z maupun data dari MNIST.\n",
        "  \n",
        "- `np.hstack([alphabet_labels, digits_labels])`: Menggunakan fungsi `hstack` dari NumPy untuk menggabungkan label-label dari alfabet A-Z dan dari MNIST, sehingga menghasilkan satu set label yang mencakup label dari kedua dataset.\n",
        "\n",
        "Sehingga memungkinkan untuk menggabungkan data dan label dari kedua dataset (alfabet A-Z dan MNIST) ke dalam satu set tunggal untuk penggunaan lebih lanjut dalam pemrosesan dan analisis."
      ],
      "metadata": {
        "id": "2f_2_b_-eVuv"
      }
    },
    {
      "cell_type": "code",
      "source": [
        "# Check the shape\n",
        "data.shape, labels.shape"
      ],
      "metadata": {
        "colab": {
          "base_uri": "https://localhost:8080/"
        },
        "id": "jZ6e3WBM3FmA",
        "outputId": "c4374762-5975-4996-d1f5-f2c6e75aeb8f"
      },
      "execution_count": 39,
      "outputs": [
        {
          "output_type": "execute_result",
          "data": {
            "text/plain": [
              "((442450, 28, 28), (442450,))"
            ]
          },
          "metadata": {},
          "execution_count": 39
        }
      ]
    },
    {
      "cell_type": "markdown",
      "source": [
        "- `data.shape` memberikan informasi tentang jumlah total sampel data, diikuti oleh dimensi dari setiap sampel data (28x28 piksel untuk gambar dalam dataset MNIST dan dataset alfabet A-Z).\n",
        "  \n",
        "- `labels.shape` memberikan informasi tentang jumlah total label yang sesuai dengan setiap sampel data dalam variabel `data`."
      ],
      "metadata": {
        "id": "PzwQH4RtecoU"
      }
    },
    {
      "cell_type": "code",
      "source": [
        "# Check labels\n",
        "np.unique(labels)"
      ],
      "metadata": {
        "colab": {
          "base_uri": "https://localhost:8080/"
        },
        "id": "NsHqWrvc3HtC",
        "outputId": "1192dfcd-9456-4c7d-f1d1-1f41c3141024"
      },
      "execution_count": 40,
      "outputs": [
        {
          "output_type": "execute_result",
          "data": {
            "text/plain": [
              "array([ 0.,  1.,  2.,  3.,  4.,  5.,  6.,  7.,  8.,  9., 10., 11., 12.,\n",
              "       13., 14., 15., 16., 17., 18., 19., 20., 21., 22., 23., 24., 25.,\n",
              "       26., 27., 28., 29., 30., 31., 32., 33., 34., 35.], dtype=float32)"
            ]
          },
          "metadata": {},
          "execution_count": 40
        }
      ]
    },
    {
      "cell_type": "markdown",
      "source": [
        "Perintah `np.unique(labels)` digunakan untuk menemukan nilai-nilai unik dalam variabel `labels`, yang berisi label-label yang terkait dengan dataset gabungan (dataset tulisan tangan alfabet A-Z dan dataset MNIST yang telah digabungkan).\n",
        "\n"
      ],
      "metadata": {
        "id": "CkbmMTC0eitA"
      }
    },
    {
      "cell_type": "code",
      "source": [
        "# Convert data to float32\n",
        "data = np.array(data, dtype = 'float32')"
      ],
      "metadata": {
        "id": "3_K1Ehte3J07"
      },
      "execution_count": 41,
      "outputs": []
    },
    {
      "cell_type": "markdown",
      "source": [
        "Kode `data = np.array(data, dtype='float32')` digunakan untuk mengonversi tipe data dari `data` menjadi tipe data `float32` menggunakan NumPy.\n",
        "\n",
        "Ini akan mengubah tipe data dari `data` menjadi tipe data floating point 32-bit. Proses ini berguna dalam persiapan data untuk pemrosesan lebih lanjut, terutama dalam konteks penggunaan model machine learning yang memerlukan tipe data tertentu untuk kinerja dan kompatibilitas yang lebih baik."
      ],
      "metadata": {
        "id": "-NqQEcd4env6"
      }
    },
    {
      "cell_type": "code",
      "source": [
        "# Since Convolutional need 3d data (including depth)\n",
        "# and our images only in 2d data (because in grayscale format)\n",
        "# we need to add \"the depth\" to the data\n",
        "data = np.expand_dims(data, axis=-1)\n",
        "\n",
        "# check shape\n",
        "data.shape"
      ],
      "metadata": {
        "colab": {
          "base_uri": "https://localhost:8080/"
        },
        "id": "CGQls0jy3MDJ",
        "outputId": "c394e801-a7f5-4288-8c33-fef076537b67"
      },
      "execution_count": 42,
      "outputs": [
        {
          "output_type": "execute_result",
          "data": {
            "text/plain": [
              "(442450, 28, 28, 1)"
            ]
          },
          "metadata": {},
          "execution_count": 42
        }
      ]
    },
    {
      "cell_type": "markdown",
      "source": [
        "Kode `np.expand_dims(data, axis=-1)` digunakan untuk menambah dimensi kedalaman pada data gambar yang awalnya hanya berada dalam format 2D (grayscale) menjadi format 3D yang diperlukan oleh model konvolusional (Convolutional Neural Network/CNN).\n",
        "\n",
        "- `np.expand_dims(data, axis=-1)`: Fungsi ini menambahkan dimensi baru ke data gambar pada posisi terakhir (axis=-1) sehingga mengubahnya dari format 2D menjadi 3D. Dalam hal ini, dimensi kedalaman (\"depth\") ditambahkan ke setiap gambar.\n",
        "\n"
      ],
      "metadata": {
        "id": "egB1naxves7O"
      }
    },
    {
      "cell_type": "markdown",
      "source": [
        "## Preprocessing"
      ],
      "metadata": {
        "id": "ZarfT1BY3Px3"
      }
    },
    {
      "cell_type": "code",
      "source": [
        "# Normalize data\n",
        "data /= 255.0"
      ],
      "metadata": {
        "id": "XaDAItjF3N0l"
      },
      "execution_count": 43,
      "outputs": []
    },
    {
      "cell_type": "markdown",
      "source": [
        "Kode `data /= 255.0` digunakan untuk melakukan normalisasi data. Dalam konteks pengolahan gambar, normalisasi sering dilakukan dengan membagi setiap nilai piksel dalam gambar dengan nilai maksimum yang mungkin, dalam kasus ini adalah 255 (karena intensitas piksel dalam gambar grayscale berkisar dari 0 hingga 255).\n",
        "\n",
        "Dengan membagi setiap nilai piksel dalam `data` dengan 255.0, kita melakukan normalisasi sehingga setiap piksel akan memiliki nilai antara 0 dan 1. Hal ini memudahkan proses training pada model neural network karena nilai yang dinormalisasi tersebut dapat membantu dalam meningkatkan kecepatan konvergensi dan stabilitas pelatihan."
      ],
      "metadata": {
        "id": "HfNkNGDefCrY"
      }
    },
    {
      "cell_type": "code",
      "source": [
        "# Check range value of data\n",
        "data[0].min(), data[0].max()"
      ],
      "metadata": {
        "colab": {
          "base_uri": "https://localhost:8080/"
        },
        "id": "6toDLOVr3SzK",
        "outputId": "0547b0fd-e0de-4d23-82fe-5db4e69f6eb8"
      },
      "execution_count": 44,
      "outputs": [
        {
          "output_type": "execute_result",
          "data": {
            "text/plain": [
              "(0.0, 1.0)"
            ]
          },
          "metadata": {},
          "execution_count": 44
        }
      ]
    },
    {
      "cell_type": "markdown",
      "source": [
        "Perintah `data[0].min(), data[0].max()` digunakan untuk mengecek nilai minimum dan maksimum dari piksel dalam gambar pertama (indeks ke-0) dalam dataset yang telah dinormalisasi.\n",
        "\n"
      ],
      "metadata": {
        "id": "DHVENuktfGzM"
      }
    },
    {
      "cell_type": "code",
      "source": [
        "# Enconde the labels\n",
        "# LabelBinarizer similar with OneHotEncoder\n",
        "le = LabelBinarizer()\n",
        "labels = le.fit_transform(labels)"
      ],
      "metadata": {
        "id": "Qr4qT9Op3Vg9"
      },
      "execution_count": 45,
      "outputs": []
    },
    {
      "cell_type": "markdown",
      "source": [
        "Kode `LabelBinarizer()` dari modul `sklearn.preprocessing` digunakan untuk mengkodekan label-label dalam bentuk yang disebut \"one-hot encoding\". Ini akan mengubah label-label kelas menjadi representasi biner di mana setiap kelas direpresentasikan sebagai vektor biner yang memiliki panjang sama dengan jumlah kelas.\n",
        "\n",
        "- `le.fit_transform(labels)`: Metode `fit_transform()` dari `LabelBinarizer()` digunakan untuk melakukan transformasi one-hot encoding pada label-label yang ada dalam variabel `labels`.\n",
        "\n",
        "Setelah transformasi ini, label-label kelas akan diubah menjadi representasi biner yang sesuai dengan format yang diperlukan oleh banyak model machine learning, terutama untuk tugas klasifikasi dengan lebih dari satu kelas."
      ],
      "metadata": {
        "id": "EXEAxhtUfMOF"
      }
    },
    {
      "cell_type": "code",
      "source": [
        "# Check labels shape\n",
        "labels.shape"
      ],
      "metadata": {
        "colab": {
          "base_uri": "https://localhost:8080/"
        },
        "id": "tuHjZBWs3YdJ",
        "outputId": "d0325940-e93c-4b76-edc2-5945f1aa86cb"
      },
      "execution_count": 46,
      "outputs": [
        {
          "output_type": "execute_result",
          "data": {
            "text/plain": [
              "(442450, 36)"
            ]
          },
          "metadata": {},
          "execution_count": 46
        }
      ]
    },
    {
      "cell_type": "markdown",
      "source": [
        "Perintah `labels.shape` digunakan untuk memeriksa dimensi atau bentuk dari variabel `labels` setelah dilakukan transformasi dengan `LabelBinarizer()` untuk encoding one-hot.\n",
        "\n",
        "Jika hasilnya adalah `(jumlah_data, jumlah_kelas)`, itu menandakan bahwa setiap sampel data dalam `labels` sekarang direpresentasikan sebagai vektor biner yang memiliki panjang `jumlah_kelas`, mewakili setiap kelas dalam bentuk one-hot encoding."
      ],
      "metadata": {
        "id": "4NvpZwhRfRCp"
      }
    },
    {
      "cell_type": "code",
      "source": [
        "# Check data with label binarizer's label\n",
        "plt.imshow(data[30000].reshape(28,28), cmap='gray')\n",
        "plt.title(str(labels[0]))"
      ],
      "metadata": {
        "colab": {
          "base_uri": "https://localhost:8080/",
          "height": 469
        },
        "id": "svrPDQqB3aqe",
        "outputId": "48b5fed6-c8be-4993-c2df-4e295a66ff4a"
      },
      "execution_count": 47,
      "outputs": [
        {
          "output_type": "execute_result",
          "data": {
            "text/plain": [
              "Text(0.5, 1.0, '[0 0 0 0 0 0 0 0 0 0 1 0 0 0 0 0 0 0 0 0 0 0 0 0 0 0 0 0 0 0 0 0 0 0 0 0]')"
            ]
          },
          "metadata": {},
          "execution_count": 47
        },
        {
          "output_type": "display_data",
          "data": {
            "text/plain": [
              "<Figure size 640x480 with 1 Axes>"
            ],
            "image/png": "[encoded data removed]"
          },
          "metadata": {}
        }
      ]
    },
    {
      "cell_type": "markdown",
      "source": [
        "Kode `plt.imshow(data[30000].reshape(28,28), cmap='gray')` digunakan untuk menampilkan gambar yang terletak pada indeks 30000 dari data. Kemudian `plt.title(str(labels[0]))` digunakan untuk menampilkan label yang terkait dengan gambar pertama dalam data (pada indeks 0).\n",
        "\n"
      ],
      "metadata": {
        "id": "e7O6LsxHfbqC"
      }
    },
    {
      "cell_type": "code",
      "source": [
        "# Since our data is not balance, we will handle it by giving weight for 'small' data\n",
        "\n",
        "# Check number of data for each labels first\n",
        "classes_total = labels.sum(axis = 0)\n",
        "classes_total"
      ],
      "metadata": {
        "colab": {
          "base_uri": "https://localhost:8080/"
        },
        "id": "Pc999e7-3cwm",
        "outputId": "64eed0bd-a6fb-4aaf-f7ad-5d003643b535"
      },
      "execution_count": 48,
      "outputs": [
        {
          "output_type": "execute_result",
          "data": {
            "text/plain": [
              "array([ 6903,  7877,  6990,  7141,  6824,  6313,  6876,  7293,  6825,\n",
              "        6958, 13869,  8668, 23409, 10134, 11440,  1163,  5762,  7218,\n",
              "        1120,  8493,  5603, 11586, 12336, 19010, 57825, 19341,  5812,\n",
              "       11566, 48419, 22495, 29008,  4182, 10784,  6272, 10859,  6076])"
            ]
          },
          "metadata": {},
          "execution_count": 48
        }
      ]
    },
    {
      "cell_type": "markdown",
      "source": [
        "Kode `labels.sum(axis=0)` digunakan untuk menghitung jumlah sampel data yang terdapat dalam setiap kelas (label) dalam dataset setelah dilakukan one-hot encoding.\n",
        "\n"
      ],
      "metadata": {
        "id": "bNwWxDtbfgLg"
      }
    },
    {
      "cell_type": "code",
      "source": [
        "# Check the biggest value of data\n",
        "classes_total.max()"
      ],
      "metadata": {
        "colab": {
          "base_uri": "https://localhost:8080/"
        },
        "id": "7QEsAifh3fZU",
        "outputId": "4aef6fe1-8f5e-4fc5-dedb-35d31da463bf"
      },
      "execution_count": 49,
      "outputs": [
        {
          "output_type": "execute_result",
          "data": {
            "text/plain": [
              "57825"
            ]
          },
          "metadata": {},
          "execution_count": 49
        }
      ]
    },
    {
      "cell_type": "markdown",
      "source": [
        "Perintah `classes_total.max()` digunakan untuk menemukan nilai maksimum dari jumlah sampel data yang ada dalam satu kelas tertentu setelah dilakukan one-hot encoding.\n",
        "\n"
      ],
      "metadata": {
        "id": "pCCV1vwyfkNX"
      }
    },
    {
      "cell_type": "code",
      "source": [
        "# Create a weight for each data\n",
        "classes_weights = {}\n",
        "for i in range(0, len(classes_total)):\n",
        "  #print(i)\n",
        "  classes_weights[i] = classes_total.max() / classes_total[i]\n",
        "\n",
        "# Check the weight for each data\n",
        "classes_weights"
      ],
      "metadata": {
        "colab": {
          "base_uri": "https://localhost:8080/"
        },
        "id": "iROzCipy3hlH",
        "outputId": "6eb62cb6-f9be-4924-8e2b-c99e6c17db18"
      },
      "execution_count": 50,
      "outputs": [
        {
          "output_type": "execute_result",
          "data": {
            "text/plain": [
              "{0: 8.376792698826597,\n",
              " 1: 7.340992763742541,\n",
              " 2: 8.272532188841202,\n",
              " 3: 8.097605377398123,\n",
              " 4: 8.473769050410317,\n",
              " 5: 9.15967052114684,\n",
              " 6: 8.409685863874346,\n",
              " 7: 7.928835870012341,\n",
              " 8: 8.472527472527473,\n",
              " 9: 8.310577752227651,\n",
              " 10: 4.169370538611291,\n",
              " 11: 6.671089063221043,\n",
              " 12: 2.4702037677816224,\n",
              " 13: 5.7060390763765545,\n",
              " 14: 5.0546328671328675,\n",
              " 15: 49.72055030094583,\n",
              " 16: 10.035577924331829,\n",
              " 17: 8.011221945137157,\n",
              " 18: 51.629464285714285,\n",
              " 19: 6.808548216178029,\n",
              " 20: 10.320364090665715,\n",
              " 21: 4.990937338166753,\n",
              " 22: 4.6875,\n",
              " 23: 3.0418200946870066,\n",
              " 24: 1.0,\n",
              " 25: 2.989762680316426,\n",
              " 26: 9.94924294562973,\n",
              " 27: 4.999567698426422,\n",
              " 28: 1.1942625828703608,\n",
              " 29: 2.5705712380529007,\n",
              " 30: 1.993415609487038,\n",
              " 31: 13.827116212338593,\n",
              " 32: 5.362110534124629,\n",
              " 33: 9.21954719387755,\n",
              " 34: 5.3250759738465785,\n",
              " 35: 9.51695194206715}"
            ]
          },
          "metadata": {},
          "execution_count": 50
        }
      ]
    },
    {
      "cell_type": "markdown",
      "source": [
        "Kode ini bertujuan untuk membuat bobot (weight) untuk setiap kelas (label) dalam dataset. Bobot ini akan digunakan untuk menangani ketidakseimbangan dalam jumlah sampel data antar kelas.\n",
        "\n",
        "- `classes_weights = {}`: Inisialisasi kamus (dictionary) kosong untuk menyimpan bobot setiap kelas.\n",
        "- `for i in range(0, len(classes_total)):`: Looping melalui setiap kelas.\n",
        "- `classes_weights[i] = classes_total.max() / classes_total[i]`: Menghitung bobot untuk setiap kelas dengan rumus: bobot kelas = jumlah sampel maksimum / jumlah sampel dalam kelas tersebut. Bobot ini dimaksudkan untuk memberikan penekanan lebih pada kelas yang memiliki jumlah sampel yang lebih sedikit.\n",
        "\n"
      ],
      "metadata": {
        "id": "pwOVWzW6fpW7"
      }
    },
    {
      "cell_type": "markdown",
      "source": [
        "## Split Data to Train and Test"
      ],
      "metadata": {
        "id": "qzgUN0OW3laG"
      }
    },
    {
      "cell_type": "code",
      "source": [
        "X_train, X_test, y_train, y_test = train_test_split(data, labels, test_size = 0.2, random_state = 1, stratify = labels)"
      ],
      "metadata": {
        "id": "ChDNLiWa3jpg"
      },
      "execution_count": 51,
      "outputs": []
    },
    {
      "cell_type": "markdown",
      "source": [
        "Kode ini menggunakan fungsi `train_test_split` dari `sklearn.model_selection` untuk membagi dataset menjadi data latih (`X_train` dan `y_train`) serta data uji (`X_test` dan `y_test`) dengan proporsi 80% data untuk pelatihan dan 20% untuk pengujian.\n",
        "\n",
        "- `data` adalah dataset yang berisi gambar-gambar yang telah diproses sebelumnya.\n",
        "- `labels` adalah label-label yang sesuai dengan setiap gambar dalam dataset.\n",
        "\n",
        "Argumen `test_size=0.2` menandakan bahwa 20% dari keseluruhan data akan dialokasikan untuk data uji (`X_test` dan `y_test`), sedangkan 80% akan digunakan sebagai data latih (`X_train` dan `y_train`).\n",
        "\n",
        "Argumen `stratify=labels` digunakan untuk memastikan bahwa pembagian data uji dan data latih akan mempertahankan proporsi kelas yang sama seperti dalam dataset aslinya, yang bermanfaat dalam menangani ketidakseimbangan kelas.\n",
        "\n",
        "Selain itu, `random_state=1` menetapkan titik awal untuk generator angka acak untuk memastikan hasil pembagian data akan konsisten setiap kali kode ini dijalankan."
      ],
      "metadata": {
        "id": "Ow8gERzffvbU"
      }
    },
    {
      "cell_type": "markdown",
      "source": [
        "## Create Data Augmentation"
      ],
      "metadata": {
        "id": "58v_Z4mC3qJ3"
      }
    },
    {
      "cell_type": "code",
      "source": [
        "# Import library\n",
        "from tensorflow.keras.preprocessing.image import ImageDataGenerator"
      ],
      "metadata": {
        "id": "2pOI13i63pj4"
      },
      "execution_count": 52,
      "outputs": []
    },
    {
      "cell_type": "markdown",
      "source": [
        "Ini adalah perintah untuk mengimpor kelas `ImageDataGenerator` dari modul `tensorflow.keras.preprocessing.image`. `ImageDataGenerator` adalah sebuah alat yang kuat untuk mempersiapkan data gambar agar siap untuk proses pelatihan model neural network dalam TensorFlow.\n",
        "\n",
        "Kelas ini memungkinkan untuk melakukan augmentasi data secara real-time saat model sedang dilatih. Augmentasi data adalah teknik yang digunakan untuk meningkatkan variasi dan jumlah sampel dalam dataset dengan melakukan transformasi pada gambar-gambar yang ada, seperti rotasi, pergeseran, pembalikan, dan lainnya. Hal ini membantu dalam meningkatkan keakuratan dan generalisasi model."
      ],
      "metadata": {
        "id": "DW2oXeECf1pn"
      }
    },
    {
      "cell_type": "code",
      "source": [
        "augmentation = ImageDataGenerator(rotation_range = 10, zoom_range=0.05, width_shift_range=0.1,\n",
        "                                  height_shift_range=0.1, horizontal_flip = False)"
      ],
      "metadata": {
        "id": "-nOeSP1P34jg"
      },
      "execution_count": 53,
      "outputs": []
    },
    {
      "cell_type": "markdown",
      "source": [
        "Kode ini menggunakan `ImageDataGenerator` dari TensorFlow untuk membuat objek `augmentation`. Objek ini digunakan untuk melakukan augmentasi data pada gambar-gambar yang akan digunakan saat proses pelatihan model.\n",
        "\n",
        "- `rotation_range=10`: Menerapkan rotasi pada gambar dalam rentang 10 derajat.\n",
        "- `zoom_range=0.05`: Melakukan zoom in/out secara acak hingga sebesar 5%.\n",
        "- `width_shift_range=0.1` dan `height_shift_range=0.1`: Menggeser gambar horizontal atau vertikal secara acak hingga sebesar 10% dari lebar atau tinggi gambar.\n",
        "- `horizontal_flip=False`: Tidak melakukan pembalikan horizontal pada gambar.\n",
        "\n",
        "Ini adalah beberapa transformasi yang diterapkan pada gambar-gambar dalam dataset saat proses augmentasi data untuk menambah variasi dan keberagaman pada data yang digunakan dalam pelatihan model. Jika `horizontal_flip` diatur menjadi `True`, itu akan melakukan pembalikan horizontal juga."
      ],
      "metadata": {
        "id": "E3HTo_kmf6T7"
      }
    },
    {
      "cell_type": "markdown",
      "source": [
        "## Build CNN Model"
      ],
      "metadata": {
        "id": "FVgSK4Ph37ry"
      }
    },
    {
      "cell_type": "code",
      "source": [
        "# Import library\n",
        "from tensorflow.keras.models import Sequential\n",
        "from tensorflow.keras.layers import Conv2D, MaxPool2D, Flatten, Dense\n",
        "from tensorflow.keras.callbacks import ModelCheckpoint"
      ],
      "metadata": {
        "id": "ABsNZok136K1"
      },
      "execution_count": 54,
      "outputs": []
    },
    {
      "cell_type": "markdown",
      "source": [
        "Ini adalah perintah untuk mengimpor beberapa kelas yang diperlukan dari TensorFlow untuk membangun dan melatih model neural network menggunakan library Keras yang terintegrasi dalam TensorFlow.\n",
        "\n",
        "- `Sequential`: Untuk membuat model neural network secara berurutan, satu lapisan setelah yang lain.\n",
        "- `Conv2D`: Lapisan konvolusi yang digunakan untuk mengekstraksi fitur-fitur dari gambar.\n",
        "- `MaxPool2D`: Lapisan pemadatan yang digunakan untuk mereduksi dimensi fitur yang diekstraksi oleh lapisan konvolusi.\n",
        "- `Flatten`: Lapisan yang digunakan untuk meratakan output dari lapisan sebelumnya menjadi vektor satu dimensi.\n",
        "- `Dense`: Lapisan yang terdiri dari neuron-neuron yang terhubung secara penuh, biasanya digunakan sebagai lapisan terakhir untuk klasifikasi.\n",
        "- `ModelCheckpoint`: Untuk menyimpan model ke disk selama pelatihan, biasanya model dengan performa terbaik selama pelatihan.\n",
        "\n"
      ],
      "metadata": {
        "id": "ERJVRfVOf_zP"
      }
    },
    {
      "cell_type": "code",
      "source": [
        "# Build the network\n",
        "network = Sequential()\n",
        "\n",
        "network.add(Conv2D(filters = 32, kernel_size=(3,3), activation='relu', input_shape=(28,28,1)))\n",
        "network.add(MaxPool2D(pool_size=(2,2)))\n",
        "\n",
        "network.add(Conv2D(filters = 64, kernel_size=(3,3), activation='relu', padding='same'))\n",
        "network.add(MaxPool2D(pool_size=(2,2)))\n",
        "\n",
        "network.add(Conv2D(filters = 128, kernel_size=(3,3), activation='relu', padding='valid'))\n",
        "network.add(MaxPool2D(pool_size=(2,2)))\n",
        "\n",
        "network.add(Flatten())\n",
        "\n",
        "network.add(Dense(64, activation = 'relu'))\n",
        "network.add(Dense(128, activation = 'relu'))\n",
        "\n",
        "network.add(Dense(36, activation='softmax'))\n",
        "\n",
        "network.compile(loss = 'categorical_crossentropy', optimizer = 'adam', metrics = ['accuracy'])"
      ],
      "metadata": {
        "id": "W328R4NC3-pR"
      },
      "execution_count": 55,
      "outputs": []
    },
    {
      "cell_type": "markdown",
      "source": [
        "Kode ini mendefinisikan arsitektur sebuah Convolutional Neural Network (CNN) dengan menggunakan Sequential API dari TensorFlow. Struktur jaringan ini terdiri dari beberapa lapisan yang berbeda:\n",
        "\n",
        "- Tiga lapisan konvolusi (`Conv2D`) dengan jumlah filter berturut-turut 32, 64, dan 128. Setiap lapisan menerapkan konvolusi pada gambar dengan ukuran kernel 3x3, menggunakan fungsi aktivasi ReLU, dan diikuti oleh lapisan pemadatan (`MaxPool2D`) dengan ukuran pooling 2x2 untuk mereduksi dimensi fitur.\n",
        "- Lapisan pemadatan (`Flatten`) untuk meratakan fitur-fitur yang dihasilkan dari lapisan konvolusi menjadi vektor satu dimensi.\n",
        "- Dua lapisan tersembunyi yang terdiri dari 64 dan 128 neuron dengan fungsi aktivasi ReLU.\n",
        "- Lapisan output dengan 36 neuron (sesuai dengan jumlah kelas yang direpresentasikan setelah penggabungan label digit dan alfabet), menggunakan fungsi aktivasi softmax untuk klasifikasi multi-kelas.\n",
        "\n",
        "Selanjutnya, jaringan ini dikompilasi menggunakan fungsi kerugian `categorical_crossentropy` (karena masalah klasifikasi multi-kelas) dan optimizer 'adam' untuk melatih model. Metrik yang dipantau adalah akurasi (`accuracy`) dalam proses pelatihan."
      ],
      "metadata": {
        "id": "Hny3nioUgHyr"
      }
    },
    {
      "cell_type": "code",
      "source": [
        "# Check network summary\n",
        "network.summary()"
      ],
      "metadata": {
        "colab": {
          "base_uri": "https://localhost:8080/"
        },
        "id": "zoHcTCTd4AuI",
        "outputId": "8c16afa0-e18f-4555-f2d5-0bb3b404173c"
      },
      "execution_count": 56,
      "outputs": [
        {
          "output_type": "stream",
          "name": "stdout",
          "text": [
            "Model: \"sequential\"\n",
            "_________________________________________________________________\n",
            " Layer (type)                Output Shape              Param #   \n",
            "=================================================================\n",
            " conv2d (Conv2D)             (None, 26, 26, 32)        320       \n",
            "                                                                 \n",
            " max_pooling2d (MaxPooling2  (None, 13, 13, 32)        0         \n",
            " D)                                                              \n",
            "                                                                 \n",
            " conv2d_1 (Conv2D)           (None, 13, 13, 64)        18496     \n",
            "                                                                 \n",
            " max_pooling2d_1 (MaxPoolin  (None, 6, 6, 64)          0         \n",
            " g2D)                                                            \n",
            "                                                                 \n",
            " conv2d_2 (Conv2D)           (None, 4, 4, 128)         73856     \n",
            "                                                                 \n",
            " max_pooling2d_2 (MaxPoolin  (None, 2, 2, 128)         0         \n",
            " g2D)                                                            \n",
            "                                                                 \n",
            " flatten (Flatten)           (None, 512)               0         \n",
            "                                                                 \n",
            " dense (Dense)               (None, 64)                32832     \n",
            "                                                                 \n",
            " dense_1 (Dense)             (None, 128)               8320      \n",
            "                                                                 \n",
            " dense_2 (Dense)             (None, 36)                4644      \n",
            "                                                                 \n",
            "=================================================================\n",
            "Total params: 138468 (540.89 KB)\n",
            "Trainable params: 138468 (540.89 KB)\n",
            "Non-trainable params: 0 (0.00 Byte)\n",
            "_________________________________________________________________\n"
          ]
        }
      ]
    },
    {
      "cell_type": "markdown",
      "source": [
        "Perintah `network.summary()` digunakan untuk menampilkan ringkasan dari arsitektur model neural network yang telah didefinisikan.\n",
        "\n",
        "Ringkasan ini mencakup informasi tentang setiap lapisan dalam model, jumlah parameter yang diperlukan, ukuran keluaran dari setiap lapisan, serta jumlah parameter yang dapat diubah atau disesuaikan selama proses pelatihan.\n",
        "\n",
        "Dengan menjalankan `network.summary()`, maka akan mendapatkan tampilan yang memuat informasi rinci tentang struktur dan ukuran model CNN yang telah Anda buat. Ini akan membantu memahami bagaimana setiap lapisan berinteraksi dan jumlah parameter yang perlu disesuaikan selama pelatihan."
      ],
      "metadata": {
        "id": "L-PudRqpgM-X"
      }
    },
    {
      "cell_type": "code",
      "source": [
        "# Create actual labels\n",
        "name_labels = '0123456789'\n",
        "name_labels += 'ABCDEFGHIJKLMNOPQRSTUVWXYZ'\n",
        "name_labels = [l for l in name_labels]\n",
        "\n",
        "# Check actual label\n",
        "print(name_labels)"
      ],
      "metadata": {
        "colab": {
          "base_uri": "https://localhost:8080/"
        },
        "id": "aDg7VFpw4C0S",
        "outputId": "e9f1a3f6-bfde-45e9-826d-7ea5b5b5530f"
      },
      "execution_count": 57,
      "outputs": [
        {
          "output_type": "stream",
          "name": "stdout",
          "text": [
            "['0', '1', '2', '3', '4', '5', '6', '7', '8', '9', 'A', 'B', 'C', 'D', 'E', 'F', 'G', 'H', 'I', 'J', 'K', 'L', 'M', 'N', 'O', 'P', 'Q', 'R', 'S', 'T', 'U', 'V', 'W', 'X', 'Y', 'Z']\n"
          ]
        }
      ]
    },
    {
      "cell_type": "markdown",
      "source": [
        "`name_labels` yang label-label aktual yang terdiri dari angka 0-9 diikuti oleh huruf-huruf A-Z dalam urutan yang sesuai. Daftar ini nantinya dapat digunakan sebagai referensi untuk menafsirkan hasil prediksi dari model, di mana setiap indeks dalam daftar ini mewakili satu kelas dalam dataset yang sedang diproses."
      ],
      "metadata": {
        "id": "oVH_ENRegZ5u"
      }
    },
    {
      "cell_type": "markdown",
      "source": [
        "## Train model"
      ],
      "metadata": {
        "id": "tEmqOwbl4G2d"
      }
    },
    {
      "cell_type": "code",
      "source": [
        "# Set model name, epoch, and batch size\n",
        "file_model = 'custom_ocr.model'\n",
        "epochs = 20\n",
        "batch_size = 128"
      ],
      "metadata": {
        "id": "UjLOQ_sG4E7M"
      },
      "execution_count": 58,
      "outputs": []
    },
    {
      "cell_type": "markdown",
      "source": [
        "- `file_model` adalah nama yang diberikan untuk menyimpan model setelah pelatihan.\n",
        "- `epochs` menentukan jumlah iterasi atau epoch yang akan dilakukan selama proses pelatihan model.\n",
        "- `batch_size` menentukan jumlah sampel yang akan digunakan untuk melatih model dalam satu iterasi.\n",
        "\n",
        "Nilai-nilai ini akan digunakan dalam proses pelatihan model untuk menentukan berapa kali seluruh dataset akan dipelajari oleh model (`epochs`) dan berapa banyak sampel yang akan digunakan dalam satu iterasi pembaruan bobot model (`batch_size`)."
      ],
      "metadata": {
        "id": "pX5yg0RWgjSb"
      }
    },
    {
      "cell_type": "code",
      "source": [
        "# Setup checkpoint\n",
        "checkpointer = ModelCheckpoint(file_model, monitor = 'val_loss', verbose = 1, save_best_only=True)"
      ],
      "metadata": {
        "id": "cVuS0Cn04JkZ"
      },
      "execution_count": 59,
      "outputs": []
    },
    {
      "cell_type": "markdown",
      "source": [
        "Kode tersebut menggunakan `ModelCheckpoint` dari Keras untuk menyimpan model selama pelatihan berdasarkan performa terbaik pada data validasi, dengan memantau val_loss dan menyimpan model dengan nilai loss terendah."
      ],
      "metadata": {
        "id": "n7Xwspxcgsid"
      }
    },
    {
      "cell_type": "code",
      "source": [
        "# Fit the model\n",
        "history = network.fit(augmentation.flow(X_train, y_train, batch_size=batch_size),\n",
        "                      validation_data = (X_test, y_test),\n",
        "                      steps_per_epoch = len(X_train) // batch_size, epochs=epochs,\n",
        "                      class_weight = classes_weights, verbose=1, callbacks=[checkpointer])"
      ],
      "metadata": {
        "colab": {
          "base_uri": "https://localhost:8080/"
        },
        "id": "MArJtYXK4MLR",
        "outputId": "e493a4e7-7a11-45f2-a676-597516b2af75"
      },
      "execution_count": 60,
      "outputs": [
        {
          "output_type": "stream",
          "name": "stdout",
          "text": [
            "Epoch 1/20\n",
            "2765/2765 [==============================] - ETA: 0s - loss: 2.2491 - accuracy: 0.8203\n",
            "Epoch 1: val_loss improved from inf to 0.28480, saving model to custom_ocr.model\n",
            "2765/2765 [==============================] - 151s 50ms/step - loss: 2.2491 - accuracy: 0.8203 - val_loss: 0.2848 - val_accuracy: 0.8902\n",
            "Epoch 2/20\n",
            "2765/2765 [==============================] - ETA: 0s - loss: 1.0060 - accuracy: 0.8981\n",
            "Epoch 2: val_loss improved from 0.28480 to 0.25511, saving model to custom_ocr.model\n",
            "2765/2765 [==============================] - 151s 55ms/step - loss: 1.0060 - accuracy: 0.8981 - val_loss: 0.2551 - val_accuracy: 0.8939\n",
            "Epoch 3/20\n",
            "2765/2765 [==============================] - ETA: 0s - loss: 0.8332 - accuracy: 0.9115\n",
            "Epoch 3: val_loss improved from 0.25511 to 0.23404, saving model to custom_ocr.model\n",
            "2765/2765 [==============================] - 142s 51ms/step - loss: 0.8332 - accuracy: 0.9115 - val_loss: 0.2340 - val_accuracy: 0.9060\n",
            "Epoch 4/20\n",
            "2764/2765 [============================>.] - ETA: 0s - loss: 0.7299 - accuracy: 0.9202\n",
            "Epoch 4: val_loss did not improve from 0.23404\n",
            "2765/2765 [==============================] - 132s 48ms/step - loss: 0.7299 - accuracy: 0.9202 - val_loss: 0.3178 - val_accuracy: 0.8623\n",
            "Epoch 5/20\n",
            "2764/2765 [============================>.] - ETA: 0s - loss: 0.6723 - accuracy: 0.9263\n",
            "Epoch 5: val_loss did not improve from 0.23404\n",
            "2765/2765 [==============================] - 140s 51ms/step - loss: 0.6723 - accuracy: 0.9263 - val_loss: 0.3153 - val_accuracy: 0.8764\n",
            "Epoch 6/20\n",
            "2764/2765 [============================>.] - ETA: 0s - loss: 0.6265 - accuracy: 0.9307\n",
            "Epoch 6: val_loss did not improve from 0.23404\n",
            "2765/2765 [==============================] - 134s 48ms/step - loss: 0.6265 - accuracy: 0.9307 - val_loss: 0.3415 - val_accuracy: 0.8683\n",
            "Epoch 7/20\n",
            "2764/2765 [============================>.] - ETA: 0s - loss: 0.5949 - accuracy: 0.9328\n",
            "Epoch 7: val_loss did not improve from 0.23404\n",
            "2765/2765 [==============================] - 143s 52ms/step - loss: 0.5949 - accuracy: 0.9328 - val_loss: 0.2682 - val_accuracy: 0.8893\n",
            "Epoch 8/20\n",
            "2764/2765 [============================>.] - ETA: 0s - loss: 0.5584 - accuracy: 0.9357\n",
            "Epoch 8: val_loss did not improve from 0.23404\n",
            "2765/2765 [==============================] - 142s 52ms/step - loss: 0.5584 - accuracy: 0.9357 - val_loss: 0.2455 - val_accuracy: 0.8978\n",
            "Epoch 9/20\n",
            "2765/2765 [==============================] - ETA: 0s - loss: 0.5361 - accuracy: 0.9375\n",
            "Epoch 9: val_loss did not improve from 0.23404\n",
            "2765/2765 [==============================] - 133s 48ms/step - loss: 0.5361 - accuracy: 0.9375 - val_loss: 0.2851 - val_accuracy: 0.8735\n",
            "Epoch 10/20\n",
            "2765/2765 [==============================] - ETA: 0s - loss: 0.5208 - accuracy: 0.9376\n",
            "Epoch 10: val_loss did not improve from 0.23404\n",
            "2765/2765 [==============================] - 138s 50ms/step - loss: 0.5208 - accuracy: 0.9376 - val_loss: 0.2423 - val_accuracy: 0.8983\n",
            "Epoch 11/20\n",
            "2765/2765 [==============================] - ETA: 0s - loss: 0.5073 - accuracy: 0.9389\n",
            "Epoch 11: val_loss improved from 0.23404 to 0.21939, saving model to custom_ocr.model\n",
            "2765/2765 [==============================] - 137s 50ms/step - loss: 0.5073 - accuracy: 0.9389 - val_loss: 0.2194 - val_accuracy: 0.8996\n",
            "Epoch 12/20\n",
            "2765/2765 [==============================] - ETA: 0s - loss: 0.4863 - accuracy: 0.9402\n",
            "Epoch 12: val_loss did not improve from 0.21939\n",
            "2765/2765 [==============================] - 143s 52ms/step - loss: 0.4863 - accuracy: 0.9402 - val_loss: 0.2517 - val_accuracy: 0.8901\n",
            "Epoch 13/20\n",
            "2765/2765 [==============================] - ETA: 0s - loss: 0.4750 - accuracy: 0.9415\n",
            "Epoch 13: val_loss did not improve from 0.21939\n",
            "2765/2765 [==============================] - 142s 51ms/step - loss: 0.4750 - accuracy: 0.9415 - val_loss: 0.2890 - val_accuracy: 0.8792\n",
            "Epoch 14/20\n",
            "2765/2765 [==============================] - ETA: 0s - loss: 0.4669 - accuracy: 0.9424\n",
            "Epoch 14: val_loss improved from 0.21939 to 0.20209, saving model to custom_ocr.model\n",
            "2765/2765 [==============================] - 131s 47ms/step - loss: 0.4669 - accuracy: 0.9424 - val_loss: 0.2021 - val_accuracy: 0.9171\n",
            "Epoch 15/20\n",
            "2764/2765 [============================>.] - ETA: 0s - loss: 0.4542 - accuracy: 0.9439\n",
            "Epoch 15: val_loss did not improve from 0.20209\n",
            "2765/2765 [==============================] - 137s 50ms/step - loss: 0.4541 - accuracy: 0.9439 - val_loss: 0.2159 - val_accuracy: 0.9039\n",
            "Epoch 16/20\n",
            "2765/2765 [==============================] - ETA: 0s - loss: 0.4539 - accuracy: 0.9441\n",
            "Epoch 16: val_loss improved from 0.20209 to 0.18456, saving model to custom_ocr.model\n",
            "2765/2765 [==============================] - 131s 47ms/step - loss: 0.4539 - accuracy: 0.9441 - val_loss: 0.1846 - val_accuracy: 0.9289\n",
            "Epoch 17/20\n",
            "2765/2765 [==============================] - ETA: 0s - loss: 0.4319 - accuracy: 0.9457\n",
            "Epoch 17: val_loss did not improve from 0.18456\n",
            "2765/2765 [==============================] - 138s 50ms/step - loss: 0.4319 - accuracy: 0.9457 - val_loss: 0.2116 - val_accuracy: 0.9160\n",
            "Epoch 18/20\n",
            "2765/2765 [==============================] - ETA: 0s - loss: 0.4310 - accuracy: 0.9471\n",
            "Epoch 18: val_loss improved from 0.18456 to 0.17385, saving model to custom_ocr.model\n",
            "2765/2765 [==============================] - 127s 46ms/step - loss: 0.4310 - accuracy: 0.9471 - val_loss: 0.1738 - val_accuracy: 0.9357\n",
            "Epoch 19/20\n",
            "2765/2765 [==============================] - ETA: 0s - loss: 0.4234 - accuracy: 0.9478\n",
            "Epoch 19: val_loss improved from 0.17385 to 0.16903, saving model to custom_ocr.model\n",
            "2765/2765 [==============================] - 140s 51ms/step - loss: 0.4234 - accuracy: 0.9478 - val_loss: 0.1690 - val_accuracy: 0.9383\n",
            "Epoch 20/20\n",
            "2765/2765 [==============================] - ETA: 0s - loss: 0.4230 - accuracy: 0.9480\n",
            "Epoch 20: val_loss improved from 0.16903 to 0.14722, saving model to custom_ocr.model\n",
            "2765/2765 [==============================] - 134s 48ms/step - loss: 0.4230 - accuracy: 0.9480 - val_loss: 0.1472 - val_accuracy: 0.9466\n"
          ]
        }
      ]
    },
    {
      "cell_type": "markdown",
      "source": [
        "Proses ini melatih model dengan data yang telah di-augmentasi, mengevaluasi performanya pada data validasi, dan menyimpan model terbaik selama pelatihan menggunakan callback `ModelCheckpoint`. Informasi pelatihan tersimpan dalam variabel `history`."
      ],
      "metadata": {
        "id": "NehhWAsig0uU"
      }
    },
    {
      "cell_type": "markdown",
      "source": [
        "## Evaluate Model\n",
        "\n",
        "### Make a Single Prediction"
      ],
      "metadata": {
        "id": "MvIMYeWsCqzZ"
      }
    },
    {
      "cell_type": "code",
      "source": [
        "# make a prediction\n",
        "predictions = network.predict(X_test, batch_size=batch_size)"
      ],
      "metadata": {
        "colab": {
          "base_uri": "https://localhost:8080/"
        },
        "id": "hjGIlVHKCtfm",
        "outputId": "5c27b866-de41-42e2-d8dc-0fe92c59de57"
      },
      "execution_count": 61,
      "outputs": [
        {
          "output_type": "stream",
          "name": "stdout",
          "text": [
            "692/692 [==============================] - 2s 3ms/step\n"
          ]
        }
      ]
    },
    {
      "cell_type": "markdown",
      "source": [
        "Prediksi dibuat pada data uji (`X_test`) menggunakan model yang telah dilatih."
      ],
      "metadata": {
        "id": "YCrc980XhGVN"
      }
    },
    {
      "cell_type": "code",
      "source": [
        "# Check prediction for data-0\n",
        "# You will get the probability for each label\n",
        "# The highest one is the prediction\n",
        "predictions[1]"
      ],
      "metadata": {
        "colab": {
          "base_uri": "https://localhost:8080/"
        },
        "id": "D0SH8RznCwwg",
        "outputId": "ac8e53ed-9d22-4edf-d818-daaedd10fba4"
      },
      "execution_count": 62,
      "outputs": [
        {
          "output_type": "execute_result",
          "data": {
            "text/plain": [
              "array([9.18374496e-20, 1.83995597e-14, 3.01520310e-13, 2.23346742e-21,\n",
              "       8.42419083e-22, 1.24402628e-15, 1.18469381e-20, 5.45454225e-16,\n",
              "       5.25340339e-19, 8.85542688e-22, 1.87490495e-17, 1.24314214e-18,\n",
              "       3.20613490e-14, 6.50219852e-12, 3.30429316e-19, 3.31194415e-17,\n",
              "       1.05440796e-13, 1.84387553e-15, 9.99999881e-01, 1.12910762e-07,\n",
              "       2.36749176e-16, 4.39857325e-13, 4.27303139e-23, 1.45625650e-16,\n",
              "       1.43354414e-14, 1.88704647e-16, 3.50736091e-22, 1.77062622e-18,\n",
              "       1.27912603e-16, 3.46257523e-10, 1.54238957e-14, 9.49992912e-17,\n",
              "       2.39189821e-19, 5.49103719e-15, 8.85261132e-17, 8.39451252e-12],\n",
              "      dtype=float32)"
            ]
          },
          "metadata": {},
          "execution_count": 62
        }
      ]
    },
    {
      "cell_type": "markdown",
      "source": [
        "Kode `predictions[1]` digunakan untuk melihat hasil prediksi probabilitas dari model untuk sampel data pertama dalam data uji (`X_test`).\n",
        "\n"
      ],
      "metadata": {
        "id": "1fEAqqKqhKHQ"
      }
    },
    {
      "cell_type": "code",
      "source": [
        "# Get the actual prediction -> highest probability\n",
        "np.argmax(predictions[1])"
      ],
      "metadata": {
        "colab": {
          "base_uri": "https://localhost:8080/"
        },
        "id": "umyiiVYxCyQ8",
        "outputId": "cf1654b6-4482-4f0c-cbd6-5df9dcde63bc"
      },
      "execution_count": 63,
      "outputs": [
        {
          "output_type": "execute_result",
          "data": {
            "text/plain": [
              "18"
            ]
          },
          "metadata": {},
          "execution_count": 63
        }
      ]
    },
    {
      "cell_type": "markdown",
      "source": [
        "Kode `np.argmax(predictions[1])` digunakan untuk menemukan indeks label dengan probabilitas tertinggi yang dihasilkan oleh model untuk sampel data pertama dalam data uji (`X_test`).\n",
        "\n"
      ],
      "metadata": {
        "id": "2sjV-ZN_hOVi"
      }
    },
    {
      "cell_type": "code",
      "source": [
        "# Check label for 24\n",
        "name_labels[18]"
      ],
      "metadata": {
        "colab": {
          "base_uri": "https://localhost:8080/",
          "height": 35
        },
        "id": "z3VNAOupCz1y",
        "outputId": "230d273d-675b-4d87-8644-9a3b0ce94fe8"
      },
      "execution_count": 64,
      "outputs": [
        {
          "output_type": "execute_result",
          "data": {
            "text/plain": [
              "'I'"
            ],
            "application/vnd.google.colaboratory.intrinsic+json": {
              "type": "string"
            }
          },
          "metadata": {},
          "execution_count": 64
        }
      ]
    },
    {
      "cell_type": "markdown",
      "source": [
        "\n",
        "Kode ini akan mengembalikan label yang sesuai dengan indeks 18 dalam daftar label `name_labels`. Dalam hal ini, indeks 18 mengacu pada label yang sesuai dengan nilai 24 dalam klasifikasi huruf A-Z yang telah ditambahkan sebelumnya ke dalam `name_labels`."
      ],
      "metadata": {
        "id": "COIBXxnmhSyz"
      }
    },
    {
      "cell_type": "code",
      "source": [
        "# Check y_test label for 0\n",
        "y_test[1]"
      ],
      "metadata": {
        "colab": {
          "base_uri": "https://localhost:8080/"
        },
        "id": "r8LYd08_C4YX",
        "outputId": "36d6b088-dd03-41b4-9d3d-54ce03f9100e"
      },
      "execution_count": 65,
      "outputs": [
        {
          "data": {
            "text/plain": [
              "array([0, 0, 0, 0, 0, 0, 0, 0, 0, 0, 0, 0, 0, 0, 0, 0, 0, 0, 1, 0, 0, 0,\n",
              "       0, 0, 0, 0, 0, 0, 0, 0, 0, 0, 0, 0, 0, 0])"
            ]
          },
          "execution_count": 65,
          "metadata": {},
          "output_type": "execute_result"
        }
      ]
    },
    {
      "cell_type": "markdown",
      "source": [
        "\n",
        "Kode ini akan mengembalikan label yang sesuai dengan sampel data pertama dalam data uji, memberikan informasi tentang label sebenarnya dari sampel data tersebut dalam format one-hot encoded."
      ],
      "metadata": {
        "id": "hOsdho_ghXyR"
      }
    },
    {
      "cell_type": "code",
      "source": [
        "# check the highest value\n",
        "np.argmax(y_test[1])"
      ],
      "metadata": {
        "colab": {
          "base_uri": "https://localhost:8080/"
        },
        "id": "qBjq_CFNC6JZ",
        "outputId": "199c87cd-4245-4322-9c52-1a9c0c3476c3"
      },
      "execution_count": 66,
      "outputs": [
        {
          "data": {
            "text/plain": [
              "18"
            ]
          },
          "execution_count": 66,
          "metadata": {},
          "output_type": "execute_result"
        }
      ]
    },
    {
      "cell_type": "markdown",
      "source": [
        "Kode `np.argmax(y_test[1])` digunakan untuk menemukan indeks dari nilai tertinggi dalam label yang sesuai dengan sampel data pertama dalam data uji (`X_test`).\n",
        "\n"
      ],
      "metadata": {
        "id": "ETdj_oRMhq66"
      }
    },
    {
      "cell_type": "code",
      "source": [
        "# Check the label of y_test 0\n",
        "name_labels[np.argmax(y_test[18])]"
      ],
      "metadata": {
        "colab": {
          "base_uri": "https://localhost:8080/",
          "height": 35
        },
        "id": "Tv00lQkUC7u7",
        "outputId": "a4e7a253-198c-4e98-cd7f-30afff1f592d"
      },
      "execution_count": 67,
      "outputs": [
        {
          "output_type": "execute_result",
          "data": {
            "text/plain": [
              "'S'"
            ],
            "application/vnd.google.colaboratory.intrinsic+json": {
              "type": "string"
            }
          },
          "metadata": {},
          "execution_count": 67
        }
      ]
    },
    {
      "cell_type": "markdown",
      "source": [
        "Kode `name_labels[np.argmax(y_test[18])]` digunakan untuk menemukan label yang sesuai dengan nilai tertinggi dalam label yang merepresentasikan sampel data ke-18 dalam data uji (`y_test`).\n",
        "\n"
      ],
      "metadata": {
        "id": "qoM5aRCShwoZ"
      }
    },
    {
      "cell_type": "markdown",
      "source": [
        "## Make an Evaluation on Test Data"
      ],
      "metadata": {
        "id": "VY8iViKRC-AG"
      }
    },
    {
      "cell_type": "code",
      "source": [
        "# Evaluate on test data\n",
        "network.evaluate(X_test, y_test)"
      ],
      "metadata": {
        "colab": {
          "base_uri": "https://localhost:8080/"
        },
        "id": "wW7ugXdaC9Wu",
        "outputId": "80402916-5fe8-4a21-daa9-5afa6d6cb4c2"
      },
      "execution_count": 68,
      "outputs": [
        {
          "output_type": "stream",
          "name": "stdout",
          "text": [
            "2766/2766 [==============================] - 9s 3ms/step - loss: 0.1472 - accuracy: 0.9466\n"
          ]
        },
        {
          "output_type": "execute_result",
          "data": {
            "text/plain": [
              "[0.14722493290901184, 0.9465815424919128]"
            ]
          },
          "metadata": {},
          "execution_count": 68
        }
      ]
    },
    {
      "cell_type": "markdown",
      "source": [
        "Perintah `network.evaluate(X_test, y_test)` digunakan untuk mengevaluasi performa model pada data uji (`X_test`) dengan menggunakan label sebenarnya (`y_test`).\n",
        "\n"
      ],
      "metadata": {
        "id": "Ep0ExAdfh1jn"
      }
    },
    {
      "cell_type": "code",
      "source": [
        "# Print Classification Report\n",
        "print(classification_report(y_test.argmax(axis=1), predictions.argmax(axis=1), target_names = name_labels))"
      ],
      "metadata": {
        "id": "_xULl_rWDCmr"
      },
      "execution_count": null,
      "outputs": []
    },
    {
      "cell_type": "markdown",
      "source": [
        "Pernyataan kode tersebut mencetak laporan klasifikasi menggunakan fungsi `classification_report`. Laporan ini memberikan evaluasi kinerja model klasifikasi dengan membandingkan prediksi model dengan nilai sebenarnya dalam data pengujian."
      ],
      "metadata": {
        "id": "0GzapjfSiPVG"
      }
    },
    {
      "cell_type": "code",
      "source": [
        "# Visualize loss value for each epoch\n",
        "plt.plot(history.history['val_loss'])"
      ],
      "metadata": {
        "colab": {
          "base_uri": "https://localhost:8080/",
          "height": 450
        },
        "id": "OphbXV4XDEPu",
        "outputId": "df23a545-c581-4c78-e98a-26630485c9b2"
      },
      "execution_count": 70,
      "outputs": [
        {
          "output_type": "execute_result",
          "data": {
            "text/plain": [
              "[<matplotlib.lines.Line2D at 0x7c02394057b0>]"
            ]
          },
          "metadata": {},
          "execution_count": 70
        },
        {
          "output_type": "display_data",
          "data": {
            "text/plain": [
              "<Figure size 640x480 with 1 Axes>"
            ],
            "image/png": "[encoded data removed]"
          },
          "metadata": {}
        }
      ]
    },
    {
      "cell_type": "markdown",
      "source": [
        "Pernyataan kode ini menggunakan `matplotlib` untuk membuat grafik perubahan nilai loss pada set validasi selama pelatihan model, membantu visualisasi kinerja model pada set validasi sepanjang epoch."
      ],
      "metadata": {
        "id": "_9-MKf4MifTG"
      }
    },
    {
      "cell_type": "code",
      "source": [
        "# You can also check the another metrics\n",
        "history.history.keys()"
      ],
      "metadata": {
        "colab": {
          "base_uri": "https://localhost:8080/"
        },
        "id": "o1E7GBtlDF-7",
        "outputId": "fc97f538-4414-4583-e21c-10689cbd461c"
      },
      "execution_count": 71,
      "outputs": [
        {
          "output_type": "execute_result",
          "data": {
            "text/plain": [
              "dict_keys(['loss', 'accuracy', 'val_loss', 'val_accuracy'])"
            ]
          },
          "metadata": {},
          "execution_count": 71
        }
      ]
    },
    {
      "cell_type": "markdown",
      "source": [
        "Pernyataan kode ini digunakan untuk mengecek kunci (keys) yang tersedia dalam objek `history.history`. Kunci-kunci tersebut memberikan informasi tentang metrik-metrik yang tercatat selama pelatihan model."
      ],
      "metadata": {
        "id": "i61x_zExij0O"
      }
    },
    {
      "cell_type": "code",
      "source": [
        "# Check the model performance by validation accuracy\n",
        "plt.plot(history.history['val_accuracy'])"
      ],
      "metadata": {
        "colab": {
          "base_uri": "https://localhost:8080/",
          "height": 447
        },
        "id": "QMKpWc5YDHrx",
        "outputId": "81831845-e7e6-468b-ba4f-fa5aae3ea834"
      },
      "execution_count": 72,
      "outputs": [
        {
          "output_type": "execute_result",
          "data": {
            "text/plain": [
              "[<matplotlib.lines.Line2D at 0x7c0239477a00>]"
            ]
          },
          "metadata": {},
          "execution_count": 72
        },
        {
          "output_type": "display_data",
          "data": {
            "text/plain": [
              "<Figure size 640x480 with 1 Axes>"
            ],
            "image/png": "[encoded data removed]"
          },
          "metadata": {}
        }
      ]
    },
    {
      "cell_type": "markdown",
      "source": [
        "Pernyataan kode ini menggunakan `matplotlib` untuk membuat grafik perubahan nilai akurasi pada set validasi selama pelatihan model. Grafik ini memberikan gambaran tentang bagaimana akurasi model berkembang sepanjang epoch pada data validasi.\n"
      ],
      "metadata": {
        "id": "gnmpdSXdiqpp"
      }
    },
    {
      "cell_type": "markdown",
      "source": [
        "## Save The Model"
      ],
      "metadata": {
        "id": "SdANIlhIDMf_"
      }
    },
    {
      "cell_type": "code",
      "source": [
        "# The result will show in colab directory\n",
        "network.save('network', save_format= 'h5')"
      ],
      "metadata": {
        "colab": {
          "base_uri": "https://localhost:8080/"
        },
        "id": "kC5u_Z_ZDKmG",
        "outputId": "a3431f37-63f7-413f-932a-120f863a92eb"
      },
      "execution_count": 73,
      "outputs": [
        {
          "output_type": "stream",
          "name": "stderr",
          "text": [
            "/usr/local/lib/python3.10/dist-packages/keras/src/engine/training.py:3079: UserWarning: You are saving your model as an HDF5 file via `model.save()`. This file format is considered legacy. We recommend using instead the native Keras format, e.g. `model.save('my_model.keras')`.\n",
            "  saving_api.save_model(\n"
          ]
        }
      ]
    },
    {
      "cell_type": "markdown",
      "source": [
        "Pernyataan ini menyimpan model neural network dengan nama 'network' dalam format H5 di direktori Colab. File 'network.h5' akan tersimpan dan dapat digunakan kembali di sesi Colab berikutnya atau di luar platform Colab."
      ],
      "metadata": {
        "id": "wFeh5ACljIyN"
      }
    },
    {
      "cell_type": "markdown",
      "source": [
        "## Testing on Real Image"
      ],
      "metadata": {
        "id": "tCuPQS61DQa9"
      }
    },
    {
      "cell_type": "code",
      "source": [
        "# Import library\n",
        "from tensorflow.keras.models import load_model"
      ],
      "metadata": {
        "id": "2oOG9m13DOoj"
      },
      "execution_count": 74,
      "outputs": []
    },
    {
      "cell_type": "markdown",
      "source": [
        "Pernyataan ini mengimpor fungsi `load_model` dari pustaka TensorFlow untuk memuat model neural network yang telah disimpan sebelumnya. Fungsi ini dapat digunakan untuk mengembalikan model dari file yang disimpan, seperti 'network.h5' dalam contoh sebelumnya."
      ],
      "metadata": {
        "id": "nZVeOIgVjPeB"
      }
    },
    {
      "cell_type": "code",
      "source": [
        "# Load saved network\n",
        "load_network = load_model('network')"
      ],
      "metadata": {
        "id": "uhuRGgtnDSvq"
      },
      "execution_count": 75,
      "outputs": []
    },
    {
      "cell_type": "markdown",
      "source": [
        "Pernyataan ini menggunakan fungsi `load_model` untuk memuat kembali model neural network yang telah disimpan sebelumnya dengan nama 'network'. Hasilnya, model tersebut kini disimpan dalam variabel `load_network` dan dapat digunakan untuk membuat prediksi atau melanjutkan pelatihan, tergantung pada kebutuhan."
      ],
      "metadata": {
        "id": "8bDo_HAPjS6A"
      }
    },
    {
      "cell_type": "code",
      "source": [
        "# Check summary\n",
        "load_network.summary()"
      ],
      "metadata": {
        "id": "MmL_0aEbDUtN"
      },
      "execution_count": null,
      "outputs": []
    },
    {
      "cell_type": "markdown",
      "source": [
        "Pernyataan ini menggunakan metode `summary()` untuk menampilkan ringkasan (summary) dari model neural network yang telah dimuat kembali (`load_network`). Ringkasan model mencakup informasi tentang arsitektur model, jumlah parameter, dan struktur layer. Ini berguna untuk mendapatkan wawasan cepat tentang model yang dimuat."
      ],
      "metadata": {
        "id": "ifIjOCArjXgE"
      }
    },
    {
      "cell_type": "code",
      "source": [
        "from google.colab import drive\n",
        "drive.mount('/content/drive')"
      ],
      "metadata": {
        "colab": {
          "base_uri": "https://localhost:8080/"
        },
        "id": "ZXSmLaG2jbxz",
        "outputId": "00fbaa72-9ab3-4e34-f5cb-c477735316fa"
      },
      "execution_count": 79,
      "outputs": [
        {
          "output_type": "stream",
          "name": "stdout",
          "text": [
            "Drive already mounted at /content/drive; to attempt to forcibly remount, call drive.mount(\"/content/drive\", force_remount=True).\n"
          ]
        }
      ]
    },
    {
      "cell_type": "code",
      "source": [
        "# Load Image\n",
        "import cv2\n",
        "from google.colab.patches import cv2_imshow\n",
        "\n",
        "img = cv2.imread('/content/drive/MyDrive/data/b_small.png')\n",
        "cv2_imshow(img)"
      ],
      "metadata": {
        "colab": {
          "base_uri": "https://localhost:8080/",
          "height": 317
        },
        "id": "DIJ3RlmtDd7j",
        "outputId": "26b29b13-49fa-4ce7-8fcb-4857bccec06c"
      },
      "execution_count": 80,
      "outputs": [
        {
          "output_type": "display_data",
          "data": {
            "text/plain": [
              "<PIL.Image.Image image mode=RGB size=300x300>"
            ],
            "image/png": "[encoded data removed]"
          },
          "metadata": {}
        }
      ]
    },
    {
      "cell_type": "markdown",
      "source": [
        "Pernyataan kode ini dilakukan di dalam lingkungan Google Colab dan digunakan untuk memuat dan menampilkan gambar. Berikut penjelasan singkat:\n",
        "\n",
        "1. **Import Libraries**:\n",
        "   - `cv2`: Library OpenCV untuk pengolahan gambar.\n",
        "   - `cv2_imshow` dari `google.colab.patches`: Fungsi khusus Colab untuk menampilkan gambar.\n",
        "\n",
        "2. **Load Image**:\n",
        "   - `img = cv2.imread('/content/drive/MyDrive/data/b_small.png')`: Membaca gambar dari path tertentu di Google Drive. Gambar ini kemudian disimpan dalam variabel `img`.\n",
        "\n",
        "3. **Display Image**:\n",
        "   - `cv2_imshow(img)`: Menampilkan gambar menggunakan fungsi khusus Colab `cv2_imshow`.\n",
        "\n"
      ],
      "metadata": {
        "id": "E_fzX-5Sj4Ar"
      }
    },
    {
      "cell_type": "code",
      "source": [
        "# Check shape\n",
        "img.shape"
      ],
      "metadata": {
        "colab": {
          "base_uri": "https://localhost:8080/"
        },
        "id": "mFzMRHtTDfx7",
        "outputId": "e93e2578-8b3f-48b9-c297-e3a445b665a8"
      },
      "execution_count": 81,
      "outputs": [
        {
          "output_type": "execute_result",
          "data": {
            "text/plain": [
              "(300, 300, 3)"
            ]
          },
          "metadata": {},
          "execution_count": 81
        }
      ]
    },
    {
      "cell_type": "markdown",
      "source": [
        "Pernyataan ini digunakan untuk memeriksa dimensi atau bentuk (shape) dari gambar yang telah dimuat (`img`). Hasilnya adalah tuple yang menyatakan tinggi (height), lebar (width), dan jumlah saluran warna (channels) pada gambar. Misalnya, jika hasilnya adalah `(height, width, channels)`, maka gambar tersebut memiliki tinggi sebesar `height` pixel, lebar sebesar `width` pixel, dan `channels` menyatakan jumlah saluran warna (misalnya, 3 untuk warna RGB)."
      ],
      "metadata": {
        "id": "2ZUTJZGQkbMX"
      }
    },
    {
      "cell_type": "code",
      "source": [
        "# Convert to gray\n",
        "gray_img = cv2.cvtColor(img, cv2.COLOR_BGR2GRAY)\n",
        "\n",
        "# check shape\n",
        "gray_img.shape"
      ],
      "metadata": {
        "colab": {
          "base_uri": "https://localhost:8080/"
        },
        "id": "DxQ7-85Lj_pL",
        "outputId": "1e5f6c56-b2d3-4d17-f45a-e87301a88aff"
      },
      "execution_count": 82,
      "outputs": [
        {
          "output_type": "execute_result",
          "data": {
            "text/plain": [
              "(300, 300)"
            ]
          },
          "metadata": {},
          "execution_count": 82
        }
      ]
    },
    {
      "cell_type": "markdown",
      "source": [
        "Pernyataan kode ini mengubah gambar warna (`img`) menjadi skala abu-abu (grayscale) menggunakan fungsi `cv2.cvtColor`. Selanjutnya, pernyataan `gray_img.shape` digunakan untuk memeriksa dimensi atau bentuk (shape) dari gambar skala abu-abu yang baru.\n",
        "\n",
        "- **`cv2.cvtColor(img, cv2.COLOR_BGR2GRAY)`**: Mengubah gambar warna (`img`) menjadi gambar skala abu-abu.\n",
        "\n",
        "- **`gray_img.shape`**: Memeriksa dimensi atau bentuk (shape) dari gambar skala abu-abu yang baru. Hasilnya adalah tuple yang menyatakan tinggi (height) dan lebar (width) dari gambar skala abu-abu. Gambar skala abu-abu hanya memiliki satu saluran warna."
      ],
      "metadata": {
        "id": "g2CyuTugkgCB"
      }
    },
    {
      "cell_type": "code",
      "source": [
        "# Pre-process\n",
        "# Binary Threshold and Otsu\n",
        "value, thresh = cv2.threshold(gray_img, 0, 255, cv2.THRESH_BINARY + cv2.THRESH_OTSU)\n",
        "\n",
        "cv2_imshow(thresh)\n",
        "\n",
        "# print threshold value\n",
        "print(value)"
      ],
      "metadata": {
        "colab": {
          "base_uri": "https://localhost:8080/",
          "height": 334
        },
        "id": "jUm67r9okBBC",
        "outputId": "ba29106d-76f6-4a69-c67a-1e2cde7a6384"
      },
      "execution_count": 83,
      "outputs": [
        {
          "output_type": "display_data",
          "data": {
            "text/plain": [
              "<PIL.Image.Image image mode=L size=300x300>"
            ],
            "image/png": "[encoded data removed]"
          },
          "metadata": {}
        },
        {
          "output_type": "stream",
          "name": "stdout",
          "text": [
            "120.0\n"
          ]
        }
      ]
    },
    {
      "cell_type": "markdown",
      "source": [
        "Pernyataan kode ini melakukan pra-pemrosesan pada gambar skala abu-abu (`gray_img`) dengan menggunakan teknik binary thresholding dan metode Otsu. Berikut adalah penjelasan singkat:\n",
        "\n",
        "- **Binary Thresholding with Otsu**:\n",
        "  - `cv2.threshold(gray_img, 0, 255, cv2.THRESH_BINARY + cv2.THRESH_OTSU)`: Menerapkan binary thresholding pada gambar skala abu-abu menggunakan metode Otsu. Hasilnya adalah gambar biner di mana piksel yang melebihi nilai ambang (threshold) akan diatur menjadi 255 (putih), sementara yang di bawah ambang akan diatur menjadi 0 (hitam). Nilai ambangnya dihitung secara otomatis dengan metode Otsu.\n",
        "  \n",
        "- **Menampilkan Gambar Hasil Thresholding**:\n",
        "  - `cv2_imshow(thresh)`: Menampilkan gambar hasil thresholding.\n",
        "\n",
        "- **Print Threshold Value**:\n",
        "  - `print(value)`: Mencetak nilai ambang (threshold) yang dihitung oleh metode Otsu.\n",
        "\n",
        "Pra-pemrosesan ini umumnya digunakan untuk mempersiapkan gambar sebelum diolah lebih lanjut, seperti pengenalan objek atau karakter pada gambar."
      ],
      "metadata": {
        "id": "wz_AifH-klSR"
      }
    },
    {
      "cell_type": "code",
      "source": [
        "# Resize image in order to match network input shape -> 28*28\n",
        "img_resize = cv2.resize(gray_img, (28,28))\n",
        "cv2_imshow(img_resize)"
      ],
      "metadata": {
        "colab": {
          "base_uri": "https://localhost:8080/",
          "height": 45
        },
        "id": "IdtFJlGmkCYf",
        "outputId": "1754e649-7e03-482b-f753-7a26ac939a7e"
      },
      "execution_count": 84,
      "outputs": [
        {
          "output_type": "display_data",
          "data": {
            "text/plain": [
              "<PIL.Image.Image image mode=L size=28x28>"
            ],
            "image/png": "[encoded data removed]"
          },
          "metadata": {}
        }
      ]
    },
    {
      "cell_type": "markdown",
      "source": [
        "Pernyataan kode ini mengubah ukuran gambar skala abu-abu (`gray_img`) menjadi 28x28 piksel menggunakan fungsi `cv2.resize`. Hal ini dilakukan untuk menyesuaikan ukuran gambar dengan bentuk input yang diharapkan oleh jaringan neural (28x28), misalnya, pada tugas pengenalan gambar atau pengolahan citra.\n",
        "\n",
        "- **`cv2.resize(gray_img, (28, 28))`**: Mengubah ukuran gambar skala abu-abu menjadi 28x28 piksel.\n",
        "\n",
        "- **`cv2_imshow(img_resize)`**: Menampilkan gambar yang telah diubah ukurannya.\n",
        "\n",
        "Langkah ini berguna jika model yang digunakan untuk tugas tertentu membutuhkan input dengan ukuran tertentu, dan gambar yang diberikan perlu disesuaikan sebelum diproses lebih lanjut."
      ],
      "metadata": {
        "id": "wgX6xNSOkpwF"
      }
    },
    {
      "cell_type": "code",
      "source": [
        "# Convert to float 32\n",
        "# and extend the dimension since network input shape is 28*28*1\n",
        "img_input = img_resize.astype('float32') / 255 # also perform normalization\n",
        "img_input = np.expand_dims(img_input, axis=-1) # insert depth\n",
        "\n",
        "# check shape\n",
        "img_input.shape"
      ],
      "metadata": {
        "colab": {
          "base_uri": "https://localhost:8080/"
        },
        "id": "xHZ8dE4rkEPV",
        "outputId": "d6c72ae9-6b24-4598-cd10-08cb948f52e1"
      },
      "execution_count": 85,
      "outputs": [
        {
          "output_type": "execute_result",
          "data": {
            "text/plain": [
              "(28, 28, 1)"
            ]
          },
          "metadata": {},
          "execution_count": 85
        }
      ]
    },
    {
      "cell_type": "markdown",
      "source": [
        "Pernyataan kode ini melakukan dua tahap pra-pemrosesan pada gambar yang telah diubah ukurannya (`img_resize`):\n",
        "\n",
        "1. **Convert to Float32 and Normalize**:\n",
        "   - `img_input = img_resize.astype('float32') / 255`: Mengonversi tipe data gambar menjadi float32 dan melakukan normalisasi dengan membagi setiap nilai piksel oleh 255. Normalisasi biasanya dilakukan untuk memastikan nilai piksel berada dalam rentang 0 hingga 1, mempermudah pelatihan model.\n",
        "\n",
        "2. **Expand Dimension**:\n",
        "   - `img_input = np.expand_dims(img_input, axis=-1)`: Menambahkan dimensi ke-3 pada akhir array gambar untuk sesuai dengan bentuk input yang diharapkan oleh jaringan neural (28x28x1). Jumlah saluran (depth) adalah 1 karena gambar tersebut telah diubah menjadi skala abu-abu.\n",
        "\n",
        "- **`img_input.shape`**: Memeriksa bentuk (shape) dari gambar setelah dilakukan pra-pemrosesan. Hasilnya adalah tuple yang menyatakan tinggi (height), lebar (width), dan jumlah saluran (depth) dari gambar.\n",
        "\n",
        "Langkah-langkah ini sering diperlukan untuk mempersiapkan data input sebelum memberikannya ke model, terutama jika model memiliki persyaratan khusus terkait tipe data atau bentuk input."
      ],
      "metadata": {
        "id": "jo7OOeeKkweb"
      }
    },
    {
      "cell_type": "code",
      "source": [
        "# Add \"amount of data\" as dimension\n",
        "img_input = np.reshape(img_input, (1,28,28,1))\n",
        "img_input.shape"
      ],
      "metadata": {
        "colab": {
          "base_uri": "https://localhost:8080/"
        },
        "id": "ToCoaOq-kGR4",
        "outputId": "5d8cbe67-8349-4fe7-83a9-47e7e106c1af"
      },
      "execution_count": 86,
      "outputs": [
        {
          "output_type": "execute_result",
          "data": {
            "text/plain": [
              "(1, 28, 28, 1)"
            ]
          },
          "metadata": {},
          "execution_count": 86
        }
      ]
    },
    {
      "cell_type": "markdown",
      "source": [
        "Pernyataan kode ini menggunakan `np.reshape` untuk menambahkan dimensi tambahan ke gambar yang telah diproses (`img_input`). Hasilnya adalah gambar dengan dimensi tambahan yang menyatakan \"jumlah data\" atau batch size.\n",
        "\n",
        "- **`img_input = np.reshape(img_input, (1, 28, 28, 1))`**: Menambahkan dimensi baru ke gambar, menjadikannya memiliki bentuk (shape) (1, 28, 28, 1). Ini menunjukkan bahwa kita memiliki satu data (batch size 1) dengan ukuran gambar 28x28 dan satu saluran warna.\n",
        "\n",
        "- **`img_input.shape`**: Memeriksa bentuk (shape) dari gambar setelah penambahan dimensi. Hasilnya adalah tuple yang menyatakan jumlah data, tinggi (height), lebar (width), dan jumlah saluran (depth) dari gambar.\n",
        "\n",
        "Tambahnya dimensi batch umumnya diperlukan saat memasukkan data ke dalam model neural network, karena sebagian besar model memproses data dalam bentuk batch untuk efisiensi komputasi."
      ],
      "metadata": {
        "id": "yTC4-Kgzk1Hv"
      }
    },
    {
      "cell_type": "code",
      "source": [
        "# Make a predition\n",
        "prediction = load_network.predict(img_input)\n",
        "pred_label = np.argmax(prediction) # predict actual label\n",
        "pred_label"
      ],
      "metadata": {
        "colab": {
          "base_uri": "https://localhost:8080/"
        },
        "id": "m_s8W6g_kNxL",
        "outputId": "128b330a-c96c-4866-b58a-a90e6b99c72e"
      },
      "execution_count": 87,
      "outputs": [
        {
          "output_type": "stream",
          "name": "stdout",
          "text": [
            "1/1 [==============================] - 0s 162ms/step\n"
          ]
        },
        {
          "output_type": "execute_result",
          "data": {
            "text/plain": [
              "6"
            ]
          },
          "metadata": {},
          "execution_count": 87
        }
      ]
    },
    {
      "cell_type": "markdown",
      "source": [
        "Pernyataan kode ini menggunakan model untuk membuat prediksi terhadap gambar yang telah diolah, dan kemudian mengambil label prediksi dengan probabilitas tertinggi. Hasilnya adalah label kelas yang diprediksi oleh model."
      ],
      "metadata": {
        "id": "ouxvwgkbk8zy"
      }
    },
    {
      "cell_type": "code",
      "source": [
        "# check label for 6\n",
        "name_labels[6]"
      ],
      "metadata": {
        "colab": {
          "base_uri": "https://localhost:8080/",
          "height": 35
        },
        "id": "BoGWx0NCkP7E",
        "outputId": "e254fb5b-2c18-48d4-bda4-01e05bf5441a"
      },
      "execution_count": 88,
      "outputs": [
        {
          "output_type": "execute_result",
          "data": {
            "text/plain": [
              "'6'"
            ],
            "application/vnd.google.colaboratory.intrinsic+json": {
              "type": "string"
            }
          },
          "metadata": {},
          "execution_count": 88
        }
      ]
    },
    {
      "cell_type": "markdown",
      "source": [
        "Pernyataan kode ini mengakses label yang sesuai dengan indeks 6 dari array `name_labels`. Ini membantu untuk mengetahui interpretasi label kelas apa yang sesuai dengan output prediksi model untuk kelas dengan indeks 6."
      ],
      "metadata": {
        "id": "8D6lcaBylAwP"
      }
    },
    {
      "cell_type": "code",
      "source": [],
      "metadata": {
        "id": "GwUqpDkOlBfM"
      },
      "execution_count": 88,
      "outputs": []
    }
  ]
}